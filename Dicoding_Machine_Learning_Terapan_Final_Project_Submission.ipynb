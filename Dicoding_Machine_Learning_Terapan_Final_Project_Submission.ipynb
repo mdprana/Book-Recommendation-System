{
  "cells": [
    {
      "cell_type": "markdown",
      "metadata": {
        "id": "iCkA1ScsP5CX"
      },
      "source": [
        "# Sistem Rekomendasi Buku - Final Project Machine Learning Terapan\n",
        "Nama: Made Pranajaya Dibyacita\n",
        "\n",
        "Profil Dicoding: https://www.dicoding.com/users/mdprana/academies"
      ]
    },
    {
      "cell_type": "markdown",
      "metadata": {
        "id": "CJSV2zqoQOmM"
      },
      "source": [
        "## Project Overview\n",
        "\n",
        "Sistem rekomendasi buku merupakan sistem yang dapat memberikan rekomendasi buku kepada pembaca berdasarkan preferensi mereka. Sistem ini umum digunakan pada platform seperti Goodreads, Amazon, dan toko buku online lainnya. Pada proyek ini, saya akan membangun sistem rekomendasi buku berdasarkan preferensi pengguna di masa lalu serta rating yang diberikan pengguna terhadap buku-buku tertentu.\n",
        "\n",
        "Sistem rekomendasi telah menjadi komponen penting dalam platform digital saat ini karena dapat membantu mengatasi masalah kelebihan informasi dengan menyarankan produk yang relevan kepada pengguna dari sejumlah besar data. Dalam konteks buku, sistem rekomendasi dapat membantu pembaca menemukan buku yang mungkin mereka sukai tanpa harus menelusuri katalog yang sangat besar.\n",
        "\n",
        "Penelitian menunjukkan bahwa sistem rekomendasi yang efektif dapat meningkatkan engagement pengguna hingga 40% dan meningkatkan konversi penjualan hingga 30% (McKinsey, 2022). Dalam industri buku, di mana lebih dari 1 juta judul baru diterbitkan setiap tahun secara global, sistem rekomendasi menjadi semakin penting untuk membantu pembaca menemukan konten yang sesuai dengan minat mereka.\n",
        "\n",
        "\n",
        "Referensi:\n",
        "- Adomavicius, G., & Tuzhilin, A. (2019). Personalization technologies: a process-oriented perspective. Communications of the ACM, 48(10), 83-90.\n",
        "- Harper, F. M., & Konstan, J. A. (2016). The movielens datasets: History and context. ACM transactions on interactive intelligent systems, 5(4), 1-19."
      ]
    },
    {
      "cell_type": "markdown",
      "metadata": {
        "id": "xQUsmjBgQ07h"
      },
      "source": [
        "## Business Understanding\n"
      ]
    },
    {
      "cell_type": "markdown",
      "metadata": {
        "id": "XG68sGPCQ5S_"
      },
      "source": [
        "### Problem Statements\n",
        "\n",
        "1. Bagaimana cara merekomendasikan buku-buku yang sesuai dengan preferensi pembaca berdasarkan perilaku membaca mereka di masa lalu?\n",
        "2. Bagaimana cara memanfaatkan data rating dan metadata buku untuk memberikan rekomendasi yang akurat?"
      ]
    },
    {
      "cell_type": "markdown",
      "metadata": {
        "id": "b7QrTC-hQ_aN"
      },
      "source": [
        "### Goals\n",
        "\n",
        "1. Membangun sistem rekomendasi yang dapat menyarankan buku-buku yang mungkin disukai oleh pengguna berdasarkan preferensi mereka.\n",
        "2. Mengembangkan model yang dapat memberikan rekomendasi personalisasi dengan tingkat akurasi yang tinggi."
      ]
    },
    {
      "cell_type": "markdown",
      "metadata": {
        "id": "9Sfy2t1nRFhQ"
      },
      "source": [
        "### Solution Approach\n",
        "\n",
        "Untuk mencapai tujuan di atas, saya akan mengimplementasikan dua pendekatan sistem rekomendasi:\n",
        "\n",
        "1. **Content-Based Filtering**: Algoritma ini merekomendasikan buku berdasarkan kesamaan konten atau karakteristik buku yang sebelumnya disukai oleh pengguna. Model ini akan menggunakan fitur seperti genre, penulis, dan tag buku untuk menemukan kesamaan antar buku.\n",
        "\n",
        "2. **Collaborative Filtering**: Algoritma ini merekomendasikan buku berdasarkan preferensi pengguna lain yang memiliki selera serupa. Model ini akan menganalisis pola rating dari banyak pengguna untuk menemukan kesamaan antara pengguna atau buku, dan membuat rekomendasi berdasarkan hal tersebut."
      ]
    },
    {
      "cell_type": "markdown",
      "metadata": {
        "id": "PHavntqwRcIZ"
      },
      "source": [
        "## Data Understanding & Preparation\n",
        "Dataset yang digunakan adalah [goodbooks-10k](https://www.kaggle.com/datasets/zygmunt/goodbooks-10k) yang berisi informasi tentang 10.000 buku, termasuk rating dari pengguna, metadata buku, dan tag/genre. Dataset ini dapat diunduh dari Kaggle."
      ]
    },
    {
      "cell_type": "markdown",
      "metadata": {
        "id": "41dV8a3vRfJ8"
      },
      "source": [
        "### Import Library\n",
        "\n",
        "Pertama, mari kita mengimpor library yang diperlukan:"
      ]
    },
    {
      "cell_type": "code",
      "execution_count": 1,
      "metadata": {
        "id": "xMuWW4sBFOGZ"
      },
      "outputs": [],
      "source": [
        "# Import library yang dibutuhkan\n",
        "import pandas as pd\n",
        "import numpy as np\n",
        "import matplotlib.pyplot as plt\n",
        "import seaborn as sns\n",
        "import tensorflow as tf\n",
        "import joblib\n",
        "import re\n",
        "from tensorflow import keras\n",
        "from tensorflow.keras import layers\n",
        "from sklearn.feature_extraction.text import TfidfVectorizer\n",
        "from sklearn.metrics.pairwise import cosine_similarity"
      ]
    },
    {
      "cell_type": "code",
      "execution_count": 2,
      "metadata": {
        "colab": {
          "base_uri": "https://localhost:8080/"
        },
        "id": "dhN86euuRoqm",
        "outputId": "baab9ea9-0832-4d06-f351-3274d7e61d13"
      },
      "outputs": [
        {
          "name": "stdout",
          "output_type": "stream",
          "text": [
            "Requirement already satisfied: kaggle in /usr/local/lib/python3.11/dist-packages (1.7.4.2)\n",
            "Requirement already satisfied: bleach in /usr/local/lib/python3.11/dist-packages (from kaggle) (6.2.0)\n",
            "Requirement already satisfied: certifi>=14.05.14 in /usr/local/lib/python3.11/dist-packages (from kaggle) (2025.1.31)\n",
            "Requirement already satisfied: charset-normalizer in /usr/local/lib/python3.11/dist-packages (from kaggle) (3.4.1)\n",
            "Requirement already satisfied: idna in /usr/local/lib/python3.11/dist-packages (from kaggle) (3.10)\n",
            "Requirement already satisfied: protobuf in /usr/local/lib/python3.11/dist-packages (from kaggle) (5.29.4)\n",
            "Requirement already satisfied: python-dateutil>=2.5.3 in /usr/local/lib/python3.11/dist-packages (from kaggle) (2.8.2)\n",
            "Requirement already satisfied: python-slugify in /usr/local/lib/python3.11/dist-packages (from kaggle) (8.0.4)\n",
            "Requirement already satisfied: requests in /usr/local/lib/python3.11/dist-packages (from kaggle) (2.32.3)\n",
            "Requirement already satisfied: setuptools>=21.0.0 in /usr/local/lib/python3.11/dist-packages (from kaggle) (75.2.0)\n",
            "Requirement already satisfied: six>=1.10 in /usr/local/lib/python3.11/dist-packages (from kaggle) (1.17.0)\n",
            "Requirement already satisfied: text-unidecode in /usr/local/lib/python3.11/dist-packages (from kaggle) (1.3)\n",
            "Requirement already satisfied: tqdm in /usr/local/lib/python3.11/dist-packages (from kaggle) (4.67.1)\n",
            "Requirement already satisfied: urllib3>=1.15.1 in /usr/local/lib/python3.11/dist-packages (from kaggle) (2.3.0)\n",
            "Requirement already satisfied: webencodings in /usr/local/lib/python3.11/dist-packages (from kaggle) (0.5.1)\n"
          ]
        }
      ],
      "source": [
        "# Untuk mengunduh dataset dari Kaggle\n",
        "!pip install kaggle"
      ]
    },
    {
      "cell_type": "markdown",
      "metadata": {
        "id": "2T_Y4JZqRrgz"
      },
      "source": [
        "### Akses dan Unduh Dataset dari Kaggle\n",
        "\n",
        "Untuk mengakses dataset dari Kaggle, kita perlu mengupload file kaggle.json yang berisi API token:"
      ]
    },
    {
      "cell_type": "code",
      "execution_count": 3,
      "metadata": {
        "id": "DLw8Bb51Rz9t"
      },
      "outputs": [],
      "source": [
        "# Upload kaggle.json jika belum ada\n",
        "from google.colab import files\n",
        "import os\n",
        "\n",
        "# Cek apakah file kaggle.json sudah ada\n",
        "if not os.path.exists('/root/.kaggle'):\n",
        "    os.makedirs('/root/.kaggle')"
      ]
    },
    {
      "cell_type": "code",
      "execution_count": 4,
      "metadata": {
        "colab": {
          "base_uri": "https://localhost:8080/",
          "height": 91
        },
        "id": "n5kxrJ6xR5x8",
        "outputId": "4158979a-718e-48ec-9948-5fcdf7cd1c80"
      },
      "outputs": [
        {
          "name": "stdout",
          "output_type": "stream",
          "text": [
            "Silakan upload file kaggle.json Anda\n"
          ]
        },
        {
          "data": {
            "text/html": [
              "\n",
              "     <input type=\"file\" id=\"files-2fc9752f-1822-4108-8082-1fb5f3eabe9e\" name=\"files[]\" multiple disabled\n",
              "        style=\"border:none\" />\n",
              "     <output id=\"result-2fc9752f-1822-4108-8082-1fb5f3eabe9e\">\n",
              "      Upload widget is only available when the cell has been executed in the\n",
              "      current browser session. Please rerun this cell to enable.\n",
              "      </output>\n",
              "      <script>// Copyright 2017 Google LLC\n",
              "//\n",
              "// Licensed under the Apache License, Version 2.0 (the \"License\");\n",
              "// you may not use this file except in compliance with the License.\n",
              "// You may obtain a copy of the License at\n",
              "//\n",
              "//      http://www.apache.org/licenses/LICENSE-2.0\n",
              "//\n",
              "// Unless required by applicable law or agreed to in writing, software\n",
              "// distributed under the License is distributed on an \"AS IS\" BASIS,\n",
              "// WITHOUT WARRANTIES OR CONDITIONS OF ANY KIND, either express or implied.\n",
              "// See the License for the specific language governing permissions and\n",
              "// limitations under the License.\n",
              "\n",
              "/**\n",
              " * @fileoverview Helpers for google.colab Python module.\n",
              " */\n",
              "(function(scope) {\n",
              "function span(text, styleAttributes = {}) {\n",
              "  const element = document.createElement('span');\n",
              "  element.textContent = text;\n",
              "  for (const key of Object.keys(styleAttributes)) {\n",
              "    element.style[key] = styleAttributes[key];\n",
              "  }\n",
              "  return element;\n",
              "}\n",
              "\n",
              "// Max number of bytes which will be uploaded at a time.\n",
              "const MAX_PAYLOAD_SIZE = 100 * 1024;\n",
              "\n",
              "function _uploadFiles(inputId, outputId) {\n",
              "  const steps = uploadFilesStep(inputId, outputId);\n",
              "  const outputElement = document.getElementById(outputId);\n",
              "  // Cache steps on the outputElement to make it available for the next call\n",
              "  // to uploadFilesContinue from Python.\n",
              "  outputElement.steps = steps;\n",
              "\n",
              "  return _uploadFilesContinue(outputId);\n",
              "}\n",
              "\n",
              "// This is roughly an async generator (not supported in the browser yet),\n",
              "// where there are multiple asynchronous steps and the Python side is going\n",
              "// to poll for completion of each step.\n",
              "// This uses a Promise to block the python side on completion of each step,\n",
              "// then passes the result of the previous step as the input to the next step.\n",
              "function _uploadFilesContinue(outputId) {\n",
              "  const outputElement = document.getElementById(outputId);\n",
              "  const steps = outputElement.steps;\n",
              "\n",
              "  const next = steps.next(outputElement.lastPromiseValue);\n",
              "  return Promise.resolve(next.value.promise).then((value) => {\n",
              "    // Cache the last promise value to make it available to the next\n",
              "    // step of the generator.\n",
              "    outputElement.lastPromiseValue = value;\n",
              "    return next.value.response;\n",
              "  });\n",
              "}\n",
              "\n",
              "/**\n",
              " * Generator function which is called between each async step of the upload\n",
              " * process.\n",
              " * @param {string} inputId Element ID of the input file picker element.\n",
              " * @param {string} outputId Element ID of the output display.\n",
              " * @return {!Iterable<!Object>} Iterable of next steps.\n",
              " */\n",
              "function* uploadFilesStep(inputId, outputId) {\n",
              "  const inputElement = document.getElementById(inputId);\n",
              "  inputElement.disabled = false;\n",
              "\n",
              "  const outputElement = document.getElementById(outputId);\n",
              "  outputElement.innerHTML = '';\n",
              "\n",
              "  const pickedPromise = new Promise((resolve) => {\n",
              "    inputElement.addEventListener('change', (e) => {\n",
              "      resolve(e.target.files);\n",
              "    });\n",
              "  });\n",
              "\n",
              "  const cancel = document.createElement('button');\n",
              "  inputElement.parentElement.appendChild(cancel);\n",
              "  cancel.textContent = 'Cancel upload';\n",
              "  const cancelPromise = new Promise((resolve) => {\n",
              "    cancel.onclick = () => {\n",
              "      resolve(null);\n",
              "    };\n",
              "  });\n",
              "\n",
              "  // Wait for the user to pick the files.\n",
              "  const files = yield {\n",
              "    promise: Promise.race([pickedPromise, cancelPromise]),\n",
              "    response: {\n",
              "      action: 'starting',\n",
              "    }\n",
              "  };\n",
              "\n",
              "  cancel.remove();\n",
              "\n",
              "  // Disable the input element since further picks are not allowed.\n",
              "  inputElement.disabled = true;\n",
              "\n",
              "  if (!files) {\n",
              "    return {\n",
              "      response: {\n",
              "        action: 'complete',\n",
              "      }\n",
              "    };\n",
              "  }\n",
              "\n",
              "  for (const file of files) {\n",
              "    const li = document.createElement('li');\n",
              "    li.append(span(file.name, {fontWeight: 'bold'}));\n",
              "    li.append(span(\n",
              "        `(${file.type || 'n/a'}) - ${file.size} bytes, ` +\n",
              "        `last modified: ${\n",
              "            file.lastModifiedDate ? file.lastModifiedDate.toLocaleDateString() :\n",
              "                                    'n/a'} - `));\n",
              "    const percent = span('0% done');\n",
              "    li.appendChild(percent);\n",
              "\n",
              "    outputElement.appendChild(li);\n",
              "\n",
              "    const fileDataPromise = new Promise((resolve) => {\n",
              "      const reader = new FileReader();\n",
              "      reader.onload = (e) => {\n",
              "        resolve(e.target.result);\n",
              "      };\n",
              "      reader.readAsArrayBuffer(file);\n",
              "    });\n",
              "    // Wait for the data to be ready.\n",
              "    let fileData = yield {\n",
              "      promise: fileDataPromise,\n",
              "      response: {\n",
              "        action: 'continue',\n",
              "      }\n",
              "    };\n",
              "\n",
              "    // Use a chunked sending to avoid message size limits. See b/62115660.\n",
              "    let position = 0;\n",
              "    do {\n",
              "      const length = Math.min(fileData.byteLength - position, MAX_PAYLOAD_SIZE);\n",
              "      const chunk = new Uint8Array(fileData, position, length);\n",
              "      position += length;\n",
              "\n",
              "      const base64 = btoa(String.fromCharCode.apply(null, chunk));\n",
              "      yield {\n",
              "        response: {\n",
              "          action: 'append',\n",
              "          file: file.name,\n",
              "          data: base64,\n",
              "        },\n",
              "      };\n",
              "\n",
              "      let percentDone = fileData.byteLength === 0 ?\n",
              "          100 :\n",
              "          Math.round((position / fileData.byteLength) * 100);\n",
              "      percent.textContent = `${percentDone}% done`;\n",
              "\n",
              "    } while (position < fileData.byteLength);\n",
              "  }\n",
              "\n",
              "  // All done.\n",
              "  yield {\n",
              "    response: {\n",
              "      action: 'complete',\n",
              "    }\n",
              "  };\n",
              "}\n",
              "\n",
              "scope.google = scope.google || {};\n",
              "scope.google.colab = scope.google.colab || {};\n",
              "scope.google.colab._files = {\n",
              "  _uploadFiles,\n",
              "  _uploadFilesContinue,\n",
              "};\n",
              "})(self);\n",
              "</script> "
            ],
            "text/plain": [
              "<IPython.core.display.HTML object>"
            ]
          },
          "metadata": {},
          "output_type": "display_data"
        },
        {
          "name": "stdout",
          "output_type": "stream",
          "text": [
            "Saving kaggle.json to kaggle.json\n"
          ]
        }
      ],
      "source": [
        "# Jika kaggle.json belum ada, upload file\n",
        "if not os.path.exists('/root/.kaggle/kaggle.json'):\n",
        "    print(\"Silakan upload file kaggle.json Anda\")\n",
        "    uploaded = files.upload()\n",
        "    # Pindahkan file yang diupload ke lokasi yang benar\n",
        "    with open('/root/.kaggle/kaggle.json', 'w') as f:\n",
        "        f.write(open(list(uploaded.keys())[0]).read())\n",
        "    # Atur permisi yang benar\n",
        "    !chmod 600 /root/.kaggle/kaggle.json"
      ]
    },
    {
      "cell_type": "markdown",
      "metadata": {
        "id": "9HTc4r2VSC98"
      },
      "source": [
        "Sekarang kita unduh dataset buku dari Kaggle. Dalam contoh ini, saya menggunakan dataset [Goodbooks-10k](https://www.kaggle.com/datasets/zygmunt/goodbooks-10k)"
      ]
    },
    {
      "cell_type": "code",
      "execution_count": 5,
      "metadata": {
        "colab": {
          "base_uri": "https://localhost:8080/"
        },
        "id": "IyWLaz3bSYzW",
        "outputId": "2afbf56c-c684-443a-ef8e-83d4b527937f"
      },
      "outputs": [
        {
          "name": "stdout",
          "output_type": "stream",
          "text": [
            "Dataset URL: https://www.kaggle.com/datasets/zygmunt/goodbooks-10k\n",
            "License(s): CC-BY-SA-4.0\n",
            "Archive:  goodbooks-10k.zip\n",
            "  inflating: book_tags.csv           \n",
            "  inflating: books.csv               \n",
            "  inflating: ratings.csv             \n",
            "  inflating: sample_book.xml         \n",
            "  inflating: tags.csv                \n",
            "  inflating: to_read.csv             \n"
          ]
        }
      ],
      "source": [
        "# Unduh dataset dari Kaggle\n",
        "!kaggle datasets download -d zygmunt/goodbooks-10k\n",
        "!unzip goodbooks-10k.zip"
      ]
    },
    {
      "cell_type": "markdown",
      "metadata": {
        "id": "AR9aPctJTD8A"
      },
      "source": [
        "### Memahami Data\n",
        "\n",
        "Setelah dataset diunduh, mari kita muat dan pahami data:"
      ]
    },
    {
      "cell_type": "code",
      "execution_count": 6,
      "metadata": {
        "id": "9MtnkcQuTEpE"
      },
      "outputs": [],
      "source": [
        "# Load dataset\n",
        "books = pd.read_csv('books.csv')\n",
        "ratings = pd.read_csv('ratings.csv')\n",
        "tags = pd.read_csv('tags.csv')\n",
        "book_tags = pd.read_csv('book_tags.csv')\n",
        "to_read = pd.read_csv('to_read.csv')"
      ]
    },
    {
      "cell_type": "code",
      "execution_count": 7,
      "metadata": {
        "colab": {
          "base_uri": "https://localhost:8080/"
        },
        "id": "2nwPTzSOTHID",
        "outputId": "256ce9a8-563f-4507-aa00-2782a21ed6c4"
      },
      "outputs": [
        {
          "name": "stdout",
          "output_type": "stream",
          "text": [
            "Jumlah data buku: 10000\n",
            "Jumlah data rating: 981756\n",
            "Jumlah data tag: 34252\n",
            "Jumlah data book_tags: 999912\n",
            "Jumlah data to_read: 912705\n"
          ]
        }
      ],
      "source": [
        "# Cek ukuran dataset\n",
        "print('Jumlah data buku:', len(books))\n",
        "print('Jumlah data rating:', len(ratings))\n",
        "print('Jumlah data tag:', len(tags))\n",
        "print('Jumlah data book_tags:', len(book_tags))\n",
        "print('Jumlah data to_read:', len(to_read))"
      ]
    },
    {
      "cell_type": "code",
      "execution_count": 8,
      "metadata": {
        "colab": {
          "base_uri": "https://localhost:8080/"
        },
        "id": "IJpN4JXzeTiy",
        "outputId": "030f009b-a572-4d45-a5aa-1c5414f08596"
      },
      "outputs": [
        {
          "name": "stdout",
          "output_type": "stream",
          "text": [
            "\n",
            "Kolom di dataframe books:\n",
            "['id', 'book_id', 'best_book_id', 'work_id', 'books_count', 'isbn', 'isbn13', 'authors', 'original_publication_year', 'original_title', 'title', 'language_code', 'average_rating', 'ratings_count', 'work_ratings_count', 'work_text_reviews_count', 'ratings_1', 'ratings_2', 'ratings_3', 'ratings_4', 'ratings_5', 'image_url', 'small_image_url']\n",
            "\n",
            "Kolom di dataframe ratings:\n",
            "['book_id', 'user_id', 'rating']\n",
            "\n",
            "Kolom di dataframe tags:\n",
            "['tag_id', 'tag_name']\n",
            "\n",
            "Kolom di dataframe book_tags:\n",
            "['goodreads_book_id', 'tag_id', 'count']\n"
          ]
        }
      ],
      "source": [
        "# Memeriksa kolom pada setiap dataframe\n",
        "print(\"\\nKolom di dataframe books:\")\n",
        "print(books.columns.tolist())\n",
        "print(\"\\nKolom di dataframe ratings:\")\n",
        "print(ratings.columns.tolist())\n",
        "print(\"\\nKolom di dataframe tags:\")\n",
        "print(tags.columns.tolist())\n",
        "print(\"\\nKolom di dataframe book_tags:\")\n",
        "print(book_tags.columns.tolist())"
      ]
    },
    {
      "cell_type": "markdown",
      "metadata": {
        "id": "_YAdiDxfTdYk"
      },
      "source": [
        "### Eksplorasi Data\n",
        "Sekarang, mari kita lihat struktur dari setiap file dalam dataset."
      ]
    },
    {
      "cell_type": "code",
      "execution_count": 9,
      "metadata": {
        "colab": {
          "base_uri": "https://localhost:8080/"
        },
        "id": "d2N7iyjEThuY",
        "outputId": "6b5d3707-29ae-4db6-a0d3-da059388fe71"
      },
      "outputs": [
        {
          "name": "stdout",
          "output_type": "stream",
          "text": [
            "\n",
            "Struktur data buku:\n",
            "<class 'pandas.core.frame.DataFrame'>\n",
            "RangeIndex: 10000 entries, 0 to 9999\n",
            "Data columns (total 23 columns):\n",
            " #   Column                     Non-Null Count  Dtype  \n",
            "---  ------                     --------------  -----  \n",
            " 0   id                         10000 non-null  int64  \n",
            " 1   book_id                    10000 non-null  int64  \n",
            " 2   best_book_id               10000 non-null  int64  \n",
            " 3   work_id                    10000 non-null  int64  \n",
            " 4   books_count                10000 non-null  int64  \n",
            " 5   isbn                       9300 non-null   object \n",
            " 6   isbn13                     9415 non-null   float64\n",
            " 7   authors                    10000 non-null  object \n",
            " 8   original_publication_year  9979 non-null   float64\n",
            " 9   original_title             9415 non-null   object \n",
            " 10  title                      10000 non-null  object \n",
            " 11  language_code              8916 non-null   object \n",
            " 12  average_rating             10000 non-null  float64\n",
            " 13  ratings_count              10000 non-null  int64  \n",
            " 14  work_ratings_count         10000 non-null  int64  \n",
            " 15  work_text_reviews_count    10000 non-null  int64  \n",
            " 16  ratings_1                  10000 non-null  int64  \n",
            " 17  ratings_2                  10000 non-null  int64  \n",
            " 18  ratings_3                  10000 non-null  int64  \n",
            " 19  ratings_4                  10000 non-null  int64  \n",
            " 20  ratings_5                  10000 non-null  int64  \n",
            " 21  image_url                  10000 non-null  object \n",
            " 22  small_image_url            10000 non-null  object \n",
            "dtypes: float64(3), int64(13), object(7)\n",
            "memory usage: 1.8+ MB\n",
            "None\n",
            "\n",
            "Sampel data buku:\n",
            "   id  book_id  best_book_id  work_id  books_count       isbn        isbn13  \\\n",
            "0   1  2767052       2767052  2792775          272  439023483  9.780439e+12   \n",
            "1   2        3             3  4640799          491  439554934  9.780440e+12   \n",
            "2   3    41865         41865  3212258          226  316015849  9.780316e+12   \n",
            "3   4     2657          2657  3275794          487   61120081  9.780061e+12   \n",
            "4   5     4671          4671   245494         1356  743273567  9.780743e+12   \n",
            "\n",
            "                       authors  original_publication_year  \\\n",
            "0              Suzanne Collins                     2008.0   \n",
            "1  J.K. Rowling, Mary GrandPré                     1997.0   \n",
            "2              Stephenie Meyer                     2005.0   \n",
            "3                   Harper Lee                     1960.0   \n",
            "4          F. Scott Fitzgerald                     1925.0   \n",
            "\n",
            "                             original_title  ... ratings_count  \\\n",
            "0                          The Hunger Games  ...       4780653   \n",
            "1  Harry Potter and the Philosopher's Stone  ...       4602479   \n",
            "2                                  Twilight  ...       3866839   \n",
            "3                     To Kill a Mockingbird  ...       3198671   \n",
            "4                          The Great Gatsby  ...       2683664   \n",
            "\n",
            "  work_ratings_count  work_text_reviews_count  ratings_1  ratings_2  \\\n",
            "0            4942365                   155254      66715     127936   \n",
            "1            4800065                    75867      75504     101676   \n",
            "2            3916824                    95009     456191     436802   \n",
            "3            3340896                    72586      60427     117415   \n",
            "4            2773745                    51992      86236     197621   \n",
            "\n",
            "   ratings_3  ratings_4  ratings_5  \\\n",
            "0     560092    1481305    2706317   \n",
            "1     455024    1156318    3011543   \n",
            "2     793319     875073    1355439   \n",
            "3     446835    1001952    1714267   \n",
            "4     606158     936012     947718   \n",
            "\n",
            "                                           image_url  \\\n",
            "0  https://images.gr-assets.com/books/1447303603m...   \n",
            "1  https://images.gr-assets.com/books/1474154022m...   \n",
            "2  https://images.gr-assets.com/books/1361039443m...   \n",
            "3  https://images.gr-assets.com/books/1361975680m...   \n",
            "4  https://images.gr-assets.com/books/1490528560m...   \n",
            "\n",
            "                                     small_image_url  \n",
            "0  https://images.gr-assets.com/books/1447303603s...  \n",
            "1  https://images.gr-assets.com/books/1474154022s...  \n",
            "2  https://images.gr-assets.com/books/1361039443s...  \n",
            "3  https://images.gr-assets.com/books/1361975680s...  \n",
            "4  https://images.gr-assets.com/books/1490528560s...  \n",
            "\n",
            "[5 rows x 23 columns]\n"
          ]
        }
      ],
      "source": [
        "# Melihat struktur data buku\n",
        "print(\"\\nStruktur data buku:\")\n",
        "print(books.info())\n",
        "print(\"\\nSampel data buku:\")\n",
        "print(books.head())"
      ]
    },
    {
      "cell_type": "code",
      "execution_count": 10,
      "metadata": {
        "colab": {
          "base_uri": "https://localhost:8080/"
        },
        "id": "hvb-TRHXTlf_",
        "outputId": "fb817683-1e1f-456a-e40f-9afc3966ea28"
      },
      "outputs": [
        {
          "name": "stdout",
          "output_type": "stream",
          "text": [
            "\n",
            "Struktur data rating:\n",
            "<class 'pandas.core.frame.DataFrame'>\n",
            "RangeIndex: 981756 entries, 0 to 981755\n",
            "Data columns (total 3 columns):\n",
            " #   Column   Non-Null Count   Dtype\n",
            "---  ------   --------------   -----\n",
            " 0   book_id  981756 non-null  int64\n",
            " 1   user_id  981756 non-null  int64\n",
            " 2   rating   981756 non-null  int64\n",
            "dtypes: int64(3)\n",
            "memory usage: 22.5 MB\n",
            "None\n",
            "\n",
            "Sampel data rating:\n",
            "   book_id  user_id  rating\n",
            "0        1      314       5\n",
            "1        1      439       3\n",
            "2        1      588       5\n",
            "3        1     1169       4\n",
            "4        1     1185       4\n"
          ]
        }
      ],
      "source": [
        "# Melihat struktur data rating\n",
        "print(\"\\nStruktur data rating:\")\n",
        "print(ratings.info())\n",
        "print(\"\\nSampel data rating:\")\n",
        "print(ratings.head())"
      ]
    },
    {
      "cell_type": "code",
      "execution_count": 11,
      "metadata": {
        "colab": {
          "base_uri": "https://localhost:8080/"
        },
        "id": "kJxHysxJTp-m",
        "outputId": "d45dc5aa-c289-43e2-a062-4b2d312080cf"
      },
      "outputs": [
        {
          "name": "stdout",
          "output_type": "stream",
          "text": [
            "\n",
            "Struktur data tag:\n",
            "<class 'pandas.core.frame.DataFrame'>\n",
            "RangeIndex: 34252 entries, 0 to 34251\n",
            "Data columns (total 2 columns):\n",
            " #   Column    Non-Null Count  Dtype \n",
            "---  ------    --------------  ----- \n",
            " 0   tag_id    34252 non-null  int64 \n",
            " 1   tag_name  34252 non-null  object\n",
            "dtypes: int64(1), object(1)\n",
            "memory usage: 535.3+ KB\n",
            "None\n",
            "\n",
            "Sampel data tag:\n",
            "   tag_id tag_name\n",
            "0       0        -\n",
            "1       1     --1-\n",
            "2       2    --10-\n",
            "3       3    --12-\n",
            "4       4   --122-\n"
          ]
        }
      ],
      "source": [
        "# Melihat struktur data tag\n",
        "print(\"\\nStruktur data tag:\")\n",
        "print(tags.info())\n",
        "print(\"\\nSampel data tag:\")\n",
        "print(tags.head())"
      ]
    },
    {
      "cell_type": "code",
      "execution_count": 12,
      "metadata": {
        "colab": {
          "base_uri": "https://localhost:8080/"
        },
        "id": "QpmViSLpp9Dv",
        "outputId": "18aeefe5-a9ff-43b5-d943-2588968b3e26"
      },
      "outputs": [
        {
          "name": "stdout",
          "output_type": "stream",
          "text": [
            "\n",
            "Struktur data book_tags:\n",
            "<class 'pandas.core.frame.DataFrame'>\n",
            "RangeIndex: 999912 entries, 0 to 999911\n",
            "Data columns (total 3 columns):\n",
            " #   Column             Non-Null Count   Dtype\n",
            "---  ------             --------------   -----\n",
            " 0   goodreads_book_id  999912 non-null  int64\n",
            " 1   tag_id             999912 non-null  int64\n",
            " 2   count              999912 non-null  int64\n",
            "dtypes: int64(3)\n",
            "memory usage: 22.9 MB\n",
            "None\n",
            "\n",
            "Sampel data book_tags:\n",
            "   goodreads_book_id  tag_id   count\n",
            "0                  1   30574  167697\n",
            "1                  1   11305   37174\n",
            "2                  1   11557   34173\n",
            "3                  1    8717   12986\n",
            "4                  1   33114   12716\n"
          ]
        }
      ],
      "source": [
        "# Melihat struktur data book_tags\n",
        "print(\"\\nStruktur data book_tags:\")\n",
        "print(book_tags.info())\n",
        "print(\"\\nSampel data book_tags:\")\n",
        "print(book_tags.head())"
      ]
    },
    {
      "cell_type": "code",
      "execution_count": 13,
      "metadata": {
        "colab": {
          "base_uri": "https://localhost:8080/"
        },
        "id": "-L85oNUzqAL5",
        "outputId": "e314183d-0131-445d-8e7f-2848c05dc5e1"
      },
      "outputs": [
        {
          "name": "stdout",
          "output_type": "stream",
          "text": [
            "\n",
            "Struktur data to_read:\n",
            "<class 'pandas.core.frame.DataFrame'>\n",
            "RangeIndex: 912705 entries, 0 to 912704\n",
            "Data columns (total 2 columns):\n",
            " #   Column   Non-Null Count   Dtype\n",
            "---  ------   --------------   -----\n",
            " 0   user_id  912705 non-null  int64\n",
            " 1   book_id  912705 non-null  int64\n",
            "dtypes: int64(2)\n",
            "memory usage: 13.9 MB\n",
            "None\n",
            "\n",
            "Sampel data to_read:\n",
            "   user_id  book_id\n",
            "0        1      112\n",
            "1        1      235\n",
            "2        1      533\n",
            "3        1     1198\n",
            "4        1     1874\n"
          ]
        }
      ],
      "source": [
        "# Melihat struktur data to_read\n",
        "print(\"\\nStruktur data to_read:\")\n",
        "print(to_read.info())\n",
        "print(\"\\nSampel data to_read:\")\n",
        "print(to_read.head())"
      ]
    },
    {
      "cell_type": "markdown",
      "metadata": {
        "id": "1ywqxYFETwT8"
      },
      "source": [
        "Mari kita lakukan analisis lebih lanjut untuk memahami karakteristik dataset ini."
      ]
    },
    {
      "cell_type": "code",
      "execution_count": 14,
      "metadata": {
        "colab": {
          "base_uri": "https://localhost:8080/",
          "height": 564
        },
        "id": "-As2eXu7TwzP",
        "outputId": "5b912e85-3e3c-4ff7-ec8e-624548d25003"
      },
      "outputs": [
        {
          "data": {
            "image/png": "[encoded data removed]",
            "text/plain": [
              "<Figure size 1000x600 with 1 Axes>"
            ]
          },
          "metadata": {},
          "output_type": "display_data"
        }
      ],
      "source": [
        "# Analisis distribusi rating\n",
        "plt.figure(figsize=(10, 6))\n",
        "sns.countplot(data=ratings, x='rating')\n",
        "plt.title('Distribusi Rating Buku')\n",
        "plt.xlabel('Rating')\n",
        "plt.ylabel('Jumlah')\n",
        "plt.show()"
      ]
    },
    {
      "cell_type": "code",
      "execution_count": 15,
      "metadata": {
        "colab": {
          "base_uri": "https://localhost:8080/"
        },
        "id": "zpNy6tjxqKXR",
        "outputId": "f84e4c61-a11e-43e3-95a1-bd5623782780"
      },
      "outputs": [
        {
          "name": "stdout",
          "output_type": "stream",
          "text": [
            "\n",
            "Statistik deskriptif rating:\n",
            "count    981756.000000\n",
            "mean          3.856534\n",
            "std           0.983941\n",
            "min           1.000000\n",
            "25%           3.000000\n",
            "50%           4.000000\n",
            "75%           5.000000\n",
            "max           5.000000\n",
            "Name: rating, dtype: float64\n"
          ]
        }
      ],
      "source": [
        "# Analisis statistik deskriptif rating\n",
        "print('\\nStatistik deskriptif rating:')\n",
        "print(ratings['rating'].describe())"
      ]
    },
    {
      "cell_type": "code",
      "execution_count": 16,
      "metadata": {
        "id": "Cj9HrEd3q0_o"
      },
      "outputs": [],
      "source": [
        "# Analisis buku dengan rating tertinggi\n",
        "rating_stats = ratings.groupby('book_id').agg({\n",
        "    'rating': ['count', 'mean']\n",
        "})\n",
        "# Flatten multi-level columns\n",
        "rating_stats.columns = ['rating_count', 'rating_mean']\n",
        "rating_stats = rating_stats.reset_index()\n",
        "\n",
        "books_with_ratings = books.merge(rating_stats, on='book_id')"
      ]
    },
    {
      "cell_type": "code",
      "execution_count": 17,
      "metadata": {
        "colab": {
          "base_uri": "https://localhost:8080/"
        },
        "id": "EYdKd65pq8wH",
        "outputId": "33945b2c-15d7-4132-e4da-70276f55ed84"
      },
      "outputs": [
        {
          "name": "stdout",
          "output_type": "stream",
          "text": [
            "\n",
            "10 buku dengan rating tertinggi (minimal 100 rating):\n",
            "                                                 title  \\\n",
            "469                           The Beautiful and Damned   \n",
            "669                         The Taste of Home Cookbook   \n",
            "179            A People's History of the United States   \n",
            "59                           Girl with a Pearl Earring   \n",
            "58                                     Deception Point   \n",
            "26   The Curious Incident of the Dog in the Night-Time   \n",
            "287                                     The Last Juror   \n",
            "630  First They Killed My Father: A Daughter of Cam...   \n",
            "385  The Millionaire Next Door: The Surprising Secr...   \n",
            "25                  The Adventures of Huckleberry Finn   \n",
            "\n",
            "                                   authors  rating_mean  rating_count  \n",
            "469                    F. Scott Fitzgerald         4.66           100  \n",
            "669          Janet Briggs, Beth Wittlinger         4.55           100  \n",
            "179                            Howard Zinn         4.54           100  \n",
            "59                         Tracy Chevalier         4.53           100  \n",
            "58                               Dan Brown         4.50           100  \n",
            "26                             Mark Haddon         4.48           100  \n",
            "287                           John Grisham         4.47           100  \n",
            "630                              Loung Ung         4.45           100  \n",
            "385    Thomas J. Stanley, William D. Danko         4.44           100  \n",
            "25   Mark Twain, John Seelye, Guy Cardwell         4.44           100  \n"
          ]
        }
      ],
      "source": [
        "# Tampilkan 10 buku dengan rating tertinggi yang memiliki minimal 100 rating\n",
        "top_books = books_with_ratings[books_with_ratings['rating_count'] >= 100].sort_values('rating_mean', ascending=False).head(10)\n",
        "print('\\n10 buku dengan rating tertinggi (minimal 100 rating):')\n",
        "print(top_books[['title', 'authors', 'rating_mean', 'rating_count']])"
      ]
    },
    {
      "cell_type": "code",
      "execution_count": 18,
      "metadata": {
        "colab": {
          "base_uri": "https://localhost:8080/",
          "height": 564
        },
        "id": "H3qJSjivrGDz",
        "outputId": "760c881e-b09a-4de8-89c0-9de8e50aacd4"
      },
      "outputs": [
        {
          "data": {
            "image/png": "[encoded data removed]",
            "text/plain": [
              "<Figure size 1200x600 with 1 Axes>"
            ]
          },
          "metadata": {},
          "output_type": "display_data"
        }
      ],
      "source": [
        "# Analisis buku berdasarkan tahun publikasi\n",
        "plt.figure(figsize=(12, 6))\n",
        "publication_years = books['original_publication_year'].dropna().astype(int)\n",
        "sns.histplot(publication_years[publication_years > 1900], bins=50)\n",
        "plt.title('Distribusi Buku Berdasarkan Tahun Publikasi')\n",
        "plt.xlabel('Tahun Publikasi')\n",
        "plt.ylabel('Jumlah Buku')\n",
        "plt.show()"
      ]
    },
    {
      "cell_type": "code",
      "execution_count": 19,
      "metadata": {
        "colab": {
          "base_uri": "https://localhost:8080/",
          "height": 718
        },
        "id": "o_0c41CbrH9w",
        "outputId": "dc025981-e279-4a59-aad5-ddbdd9cc87f2"
      },
      "outputs": [
        {
          "data": {
            "image/png": "[encoded data removed]",
            "text/plain": [
              "<Figure size 1200x800 with 1 Axes>"
            ]
          },
          "metadata": {},
          "output_type": "display_data"
        }
      ],
      "source": [
        "# Analisis tag buku terpopuler\n",
        "tag_counts = book_tags.groupby('tag_id').agg({'count': 'sum'}).reset_index()\n",
        "tag_counts = tag_counts.merge(tags, on='tag_id')\n",
        "tag_counts = tag_counts.sort_values('count', ascending=False).head(20)\n",
        "plt.figure(figsize=(12, 8))\n",
        "sns.barplot(data=tag_counts, x='count', y='tag_name')\n",
        "plt.title('20 Tag Buku Terpopuler')\n",
        "plt.xlabel('Jumlah')\n",
        "plt.ylabel('Tag')\n",
        "plt.show()"
      ]
    },
    {
      "cell_type": "markdown",
      "metadata": {
        "id": "5o6B79FgT0if"
      },
      "source": [
        "## Data Preparation\n",
        "Sebelum membangun model rekomendasi, perlu dilakukan beberapa langkah persiapan data:"
      ]
    },
    {
      "cell_type": "markdown",
      "metadata": {
        "id": "O1MTCMjUrZy9"
      },
      "source": [
        "### 1. Membersihkan Data"
      ]
    },
    {
      "cell_type": "code",
      "execution_count": 20,
      "metadata": {
        "colab": {
          "base_uri": "https://localhost:8080/"
        },
        "id": "fXc-wUKtT5Pi",
        "outputId": "1cb63207-c737-4870-aacc-db19e061f2cf"
      },
      "outputs": [
        {
          "name": "stdout",
          "output_type": "stream",
          "text": [
            "Jumlah missing value pada data buku:\n",
            "id                              0\n",
            "book_id                         0\n",
            "best_book_id                    0\n",
            "work_id                         0\n",
            "books_count                     0\n",
            "isbn                          700\n",
            "isbn13                        585\n",
            "authors                         0\n",
            "original_publication_year      21\n",
            "original_title                585\n",
            "title                           0\n",
            "language_code                1084\n",
            "average_rating                  0\n",
            "ratings_count                   0\n",
            "work_ratings_count              0\n",
            "work_text_reviews_count         0\n",
            "ratings_1                       0\n",
            "ratings_2                       0\n",
            "ratings_3                       0\n",
            "ratings_4                       0\n",
            "ratings_5                       0\n",
            "image_url                       0\n",
            "small_image_url                 0\n",
            "dtype: int64\n"
          ]
        }
      ],
      "source": [
        "# Mengatasi missing value pada data buku\n",
        "print(\"Jumlah missing value pada data buku:\")\n",
        "print(books.isnull().sum())"
      ]
    },
    {
      "cell_type": "code",
      "execution_count": 21,
      "metadata": {
        "colab": {
          "base_uri": "https://localhost:8080/"
        },
        "id": "Pi-pN9MgT7Pc",
        "outputId": "026bbe5e-e650-4705-c6e1-4883b3378b88"
      },
      "outputs": [
        {
          "name": "stdout",
          "output_type": "stream",
          "text": [
            "Jumlah data buku setelah pembersihan: 10000\n"
          ]
        }
      ],
      "source": [
        "# Mengatasi missing value pada kolom penting\n",
        "books_clean = books.dropna(subset=['title', 'authors'])\n",
        "print(f\"Jumlah data buku setelah pembersihan: {len(books_clean)}\")"
      ]
    },
    {
      "cell_type": "code",
      "execution_count": 22,
      "metadata": {
        "colab": {
          "base_uri": "https://localhost:8080/"
        },
        "id": "ow_gTHX3T97B",
        "outputId": "8f027842-a6d2-463c-ea94-42fa27bc2b17"
      },
      "outputs": [
        {
          "name": "stdout",
          "output_type": "stream",
          "text": [
            "\n",
            "Jumlah missing value pada data rating:\n",
            "book_id    0\n",
            "user_id    0\n",
            "rating     0\n",
            "dtype: int64\n"
          ]
        }
      ],
      "source": [
        "# Mengatasi missing value pada data rating (pastikan tidak ada)\n",
        "print(\"\\nJumlah missing value pada data rating:\")\n",
        "print(ratings.isnull().sum())"
      ]
    },
    {
      "cell_type": "markdown",
      "metadata": {
        "id": "e4Tj-rdmrld9"
      },
      "source": [
        "### 2. Memilih Data yang Relevan"
      ]
    },
    {
      "cell_type": "code",
      "execution_count": 23,
      "metadata": {
        "colab": {
          "base_uri": "https://localhost:8080/"
        },
        "id": "PywdZK7BrmpY",
        "outputId": "e3ded40e-de26-4ea4-8f53-cbbc711f0ea6"
      },
      "outputs": [
        {
          "name": "stdout",
          "output_type": "stream",
          "text": [
            "Kolom yang tersedia di books_clean:\n",
            "['id', 'book_id', 'best_book_id', 'work_id', 'books_count', 'isbn', 'isbn13', 'authors', 'original_publication_year', 'original_title', 'title', 'language_code', 'average_rating', 'ratings_count', 'work_ratings_count', 'work_text_reviews_count', 'ratings_1', 'ratings_2', 'ratings_3', 'ratings_4', 'ratings_5', 'image_url', 'small_image_url']\n"
          ]
        }
      ],
      "source": [
        "# Cek kolom yang tersedia di books_clean\n",
        "print(\"Kolom yang tersedia di books_clean:\")\n",
        "print(books_clean.columns.tolist())"
      ]
    },
    {
      "cell_type": "code",
      "execution_count": 24,
      "metadata": {
        "id": "1byjcVM9rqF5"
      },
      "outputs": [],
      "source": [
        "# Memilih fitur yang relevan untuk model Content-Based Filtering (sesuaikan dengan kolom yang tersedia)\n",
        "books_content = books_clean[['book_id', 'title', 'authors', 'original_publication_year', 'language_code']]"
      ]
    },
    {
      "cell_type": "code",
      "execution_count": 25,
      "metadata": {
        "colab": {
          "base_uri": "https://localhost:8080/"
        },
        "id": "BnUD_sGYczYH",
        "outputId": "32ff71a7-6749-4ec2-e22e-7d03989a97e4"
      },
      "outputs": [
        {
          "name": "stdout",
          "output_type": "stream",
          "text": [
            "Jumlah data rating setelah pembersihan: 79701\n"
          ]
        }
      ],
      "source": [
        "# Untuk Collaborative Filtering kita akan menggunakan data rating, pastikan book_id dalam rating ada di books_clean\n",
        "valid_book_ids = books_clean['book_id'].tolist()\n",
        "ratings_clean = ratings[ratings['book_id'].isin(valid_book_ids)]\n",
        "print(f\"Jumlah data rating setelah pembersihan: {len(ratings_clean)}\")"
      ]
    },
    {
      "cell_type": "markdown",
      "metadata": {
        "id": "sEXZvj7drusN"
      },
      "source": [
        "### 3. Menggabungkan Data Buku dengan Tags"
      ]
    },
    {
      "cell_type": "code",
      "execution_count": 26,
      "metadata": {
        "colab": {
          "base_uri": "https://localhost:8080/"
        },
        "id": "SflAr9XGsVsg",
        "outputId": "331b8818-a25a-4fab-de62-44177de183d8"
      },
      "outputs": [
        {
          "name": "stderr",
          "output_type": "stream",
          "text": [
            "<ipython-input-26-eddac9b1ece3>:2: FutureWarning: The provided callable <built-in function sum> is currently using SeriesGroupBy.sum. In a future version of pandas, the provided callable will be used directly. To keep current behavior pass the string \"sum\" instead.\n",
            "  book_tag_counts = book_tags.groupby('goodreads_book_id').agg({\n"
          ]
        }
      ],
      "source": [
        "# Menggabungkan data buku dengan tag\n",
        "book_tag_counts = book_tags.groupby('goodreads_book_id').agg({\n",
        "    'tag_id': list,\n",
        "    'count': sum\n",
        "}).reset_index()\n",
        "\n",
        "tags_dict = dict(zip(tags['tag_id'], tags['tag_name']))"
      ]
    },
    {
      "cell_type": "code",
      "execution_count": 27,
      "metadata": {
        "id": "yVbJe0xSrvFo"
      },
      "outputs": [],
      "source": [
        "# Fungsi untuk mendapatkan tag name dari tag id\n",
        "def get_tag_names(tag_ids):\n",
        "    return [tags_dict.get(tag_id, \"\") for tag_id in tag_ids if tag_id in tags_dict]"
      ]
    },
    {
      "cell_type": "code",
      "execution_count": 28,
      "metadata": {
        "id": "Ybmx5bXqc_rw"
      },
      "outputs": [],
      "source": [
        "# Menambahkan daftar tag ke data buku\n",
        "book_tag_counts['tag_names'] = book_tag_counts['tag_id'].apply(get_tag_names)\n",
        "book_tag_counts['tag_string'] = book_tag_counts['tag_names'].apply(lambda x: ' '.join(x))"
      ]
    },
    {
      "cell_type": "code",
      "execution_count": 29,
      "metadata": {
        "colab": {
          "base_uri": "https://localhost:8080/"
        },
        "id": "UszyUnMrdBsg",
        "outputId": "ee014424-170c-4821-c064-9772766d57f1"
      },
      "outputs": [
        {
          "name": "stdout",
          "output_type": "stream",
          "text": [
            "Kolom goodreads_book_id tidak ditemukan di dataframe books\n"
          ]
        }
      ],
      "source": [
        "# Hubungkan goodreads_book_id dengan book_id\n",
        "# Periksa apakah goodreads_book_id ada di books\n",
        "if 'goodreads_book_id' in books.columns:\n",
        "    # Buat mapping goodreads_book_id ke book_id\n",
        "    id_mapping = books[['book_id', 'goodreads_book_id']].drop_duplicates()\n",
        "\n",
        "    # Gabungkan tag dengan book melalui goodreads_book_id\n",
        "    book_tags_with_id = pd.merge(\n",
        "        book_tag_counts[['goodreads_book_id', 'tag_string']],\n",
        "        id_mapping,\n",
        "        on='goodreads_book_id',\n",
        "        how='inner'\n",
        "    )\n",
        "\n",
        "    # Gabungkan dengan books_content menggunakan book_id\n",
        "    books_with_tags = pd.merge(\n",
        "        books_content,\n",
        "        book_tags_with_id[['book_id', 'tag_string']],\n",
        "        on='book_id',\n",
        "        how='left'\n",
        "    )\n",
        "else:\n",
        "    # Alternatif jika tidak ada goodreads_book_id\n",
        "    print(\"Kolom goodreads_book_id tidak ditemukan di dataframe books\")\n",
        "    # Buat kolom tag_string kosong\n",
        "    books_with_tags = books_content.copy()\n",
        "    books_with_tags['tag_string'] = \"\""
      ]
    },
    {
      "cell_type": "code",
      "execution_count": 30,
      "metadata": {
        "id": "D-EDuvPWiX1y"
      },
      "outputs": [],
      "source": [
        "# Memastikan tidak ada missing value pada tag_string\n",
        "books_with_tags['tag_string'] = books_with_tags['tag_string'].fillna('')"
      ]
    },
    {
      "cell_type": "code",
      "execution_count": 31,
      "metadata": {
        "colab": {
          "base_uri": "https://localhost:8080/"
        },
        "id": "U3Jb2sjSjnNT",
        "outputId": "0171f39c-e9cb-4b65-cfa9-58c2a1de94f9"
      },
      "outputs": [
        {
          "name": "stdout",
          "output_type": "stream",
          "text": [
            "\n",
            "Sampel data buku dengan tag:\n",
            "   book_id                                              title  \\\n",
            "0  2767052            The Hunger Games (The Hunger Games, #1)   \n",
            "1        3  Harry Potter and the Sorcerer's Stone (Harry P...   \n",
            "2    41865                            Twilight (Twilight, #1)   \n",
            "3     2657                              To Kill a Mockingbird   \n",
            "4     4671                                   The Great Gatsby   \n",
            "\n",
            "                       authors original_publication_year language_code  \\\n",
            "0              Suzanne Collins                    2008.0           eng   \n",
            "1  J.K. Rowling, Mary GrandPré                    1997.0           eng   \n",
            "2              Stephenie Meyer                    2005.0         en-US   \n",
            "3                   Harper Lee                    1960.0           eng   \n",
            "4          F. Scott Fitzgerald                    1925.0           eng   \n",
            "\n",
            "  tag_string                       content  \n",
            "0                         Suzanne Collins   \n",
            "1             J.K. Rowling, Mary GrandPré   \n",
            "2                         Stephenie Meyer   \n",
            "3                              Harper Lee   \n",
            "4                     F. Scott Fitzgerald   \n"
          ]
        }
      ],
      "source": [
        "# Menyiapkan kolom content untuk fitur konten\n",
        "books_with_tags['content'] = books_with_tags['authors'] + ' ' + books_with_tags['tag_string']\n",
        "books_with_tags = books_with_tags.fillna('')\n",
        "\n",
        "print(\"\\nSampel data buku dengan tag:\")\n",
        "print(books_with_tags.head())\n",
        "books_with_tags['tag_string'] = books_with_tags['tag_string'].fillna('')"
      ]
    },
    {
      "cell_type": "code",
      "execution_count": 32,
      "metadata": {
        "colab": {
          "base_uri": "https://localhost:8080/"
        },
        "id": "bcn4kehIjqMV",
        "outputId": "be39d64d-2a52-402c-8f00-45f17f36de19"
      },
      "outputs": [
        {
          "name": "stdout",
          "output_type": "stream",
          "text": [
            "\n",
            "Sampel data buku dengan tag:\n",
            "   book_id                                              title  \\\n",
            "0  2767052            The Hunger Games (The Hunger Games, #1)   \n",
            "1        3  Harry Potter and the Sorcerer's Stone (Harry P...   \n",
            "2    41865                            Twilight (Twilight, #1)   \n",
            "3     2657                              To Kill a Mockingbird   \n",
            "4     4671                                   The Great Gatsby   \n",
            "\n",
            "                       authors original_publication_year language_code  \\\n",
            "0              Suzanne Collins                    2008.0           eng   \n",
            "1  J.K. Rowling, Mary GrandPré                    1997.0           eng   \n",
            "2              Stephenie Meyer                    2005.0         en-US   \n",
            "3                   Harper Lee                    1960.0           eng   \n",
            "4          F. Scott Fitzgerald                    1925.0           eng   \n",
            "\n",
            "  tag_string                       content  \n",
            "0                         Suzanne Collins   \n",
            "1             J.K. Rowling, Mary GrandPré   \n",
            "2                         Stephenie Meyer   \n",
            "3                              Harper Lee   \n",
            "4                     F. Scott Fitzgerald   \n"
          ]
        }
      ],
      "source": [
        "# Menyiapkan kolom content untuk fitur konten\n",
        "books_with_tags['content'] = books_with_tags['authors'] + ' ' + books_with_tags['tag_string']\n",
        "books_with_tags = books_with_tags.fillna('')\n",
        "\n",
        "print(\"\\nSampel data buku dengan tag:\")\n",
        "print(books_with_tags.head())"
      ]
    },
    {
      "cell_type": "markdown",
      "metadata": {
        "id": "slJ_liRqjsOh"
      },
      "source": [
        "### 4. Menyiapkan Data untuk Collaborative Filtering"
      ]
    },
    {
      "cell_type": "code",
      "execution_count": 33,
      "metadata": {
        "id": "L6dLueD7jtV6"
      },
      "outputs": [],
      "source": [
        "# Memilih subset data untuk efisiensi komputasi (opsional)\n",
        "# Kita bisa memilih hanya pengguna yang memberikan rating untuk minimal 5 buku\n",
        "user_counts = ratings_clean['user_id'].value_counts()\n",
        "valid_users = user_counts[user_counts >= 5].index\n",
        "ratings_subset = ratings_clean[ratings_clean['user_id'].isin(valid_users)]"
      ]
    },
    {
      "cell_type": "code",
      "execution_count": 34,
      "metadata": {
        "colab": {
          "base_uri": "https://localhost:8080/"
        },
        "id": "pk_XBZ8YjwAU",
        "outputId": "86d17abe-a025-41f8-93a0-bffe60d96c71"
      },
      "outputs": [
        {
          "name": "stdout",
          "output_type": "stream",
          "text": [
            "Jumlah data rating untuk model: 36411\n",
            "Jumlah pengguna unik: 4634\n",
            "Jumlah buku unik: 783\n"
          ]
        }
      ],
      "source": [
        "# Dan buku yang memiliki minimal 5 rating\n",
        "book_counts = ratings_subset['book_id'].value_counts()\n",
        "valid_books = book_counts[book_counts >= 5].index\n",
        "ratings_subset = ratings_subset[ratings_subset['book_id'].isin(valid_books)]\n",
        "\n",
        "print(f\"Jumlah data rating untuk model: {len(ratings_subset)}\")\n",
        "print(f\"Jumlah pengguna unik: {len(ratings_subset['user_id'].unique())}\")\n",
        "print(f\"Jumlah buku unik: {len(ratings_subset['book_id'].unique())}\")"
      ]
    },
    {
      "cell_type": "markdown",
      "metadata": {
        "id": "mC-riDPQj14b"
      },
      "source": [
        "## Modeling and Result"
      ]
    },
    {
      "cell_type": "markdown",
      "metadata": {
        "id": "SAaHDckzj7mh"
      },
      "source": [
        "### 1. Content-Based Filtering\n",
        "Untuk model content-based filtering, kita akan menggunakan TF-IDF Vectorizer untuk mengubah teks konten menjadi vektor fitur, kemudian menggunakan cosine similarity untuk menemukan buku yang paling mirip.\n"
      ]
    },
    {
      "cell_type": "code",
      "execution_count": 35,
      "metadata": {
        "id": "vNn4yIxwj2SO"
      },
      "outputs": [],
      "source": [
        "# Inisialisasi TF-IDF Vectorizer\n",
        "tfidf = TfidfVectorizer(stop_words='english')"
      ]
    },
    {
      "cell_type": "code",
      "execution_count": 36,
      "metadata": {
        "colab": {
          "base_uri": "https://localhost:8080/"
        },
        "id": "-SppU8_bkL4k",
        "outputId": "157babdf-73c4-47a8-8a98-cce6468c13de"
      },
      "outputs": [
        {
          "name": "stdout",
          "output_type": "stream",
          "text": [
            "Bentuk matriks TF-IDF: (10000, 6175)\n"
          ]
        }
      ],
      "source": [
        "# Fit dan transformasi ke bentuk matriks\n",
        "tfidf_matrix = tfidf.fit_transform(books_with_tags['content'])\n",
        "print(f\"Bentuk matriks TF-IDF: {tfidf_matrix.shape}\")"
      ]
    },
    {
      "cell_type": "code",
      "execution_count": 37,
      "metadata": {
        "colab": {
          "base_uri": "https://localhost:8080/"
        },
        "id": "AYdjZlIBkUNY",
        "outputId": "ab840a64-aa7b-4273-85d1-5c51d67f26c6"
      },
      "outputs": [
        {
          "name": "stdout",
          "output_type": "stream",
          "text": [
            "Bentuk matriks cosine similarity: (10000, 10000)\n"
          ]
        }
      ],
      "source": [
        "# Menghitung cosine similarity\n",
        "cosine_sim = cosine_similarity(tfidf_matrix, tfidf_matrix)\n",
        "print(f\"Bentuk matriks cosine similarity: {cosine_sim.shape}\")"
      ]
    },
    {
      "cell_type": "code",
      "execution_count": 38,
      "metadata": {
        "id": "zflAyzOEkWox"
      },
      "outputs": [],
      "source": [
        "# Membuat indeks untuk buku\n",
        "indices = pd.Series(books_with_tags.index, index=books_with_tags['title'])"
      ]
    },
    {
      "cell_type": "code",
      "execution_count": 39,
      "metadata": {
        "id": "xjPWrXSCkYYR"
      },
      "outputs": [],
      "source": [
        "# Fungsi untuk mendapatkan rekomendasi buku\n",
        "def get_content_based_recommendations(title, cosine_sim=cosine_sim, df=books_with_tags, indices=indices, verbose=True):\n",
        "    # Mengambil indeks buku yang sesuai dengan judul\n",
        "    idx = indices[title]\n",
        "\n",
        "    # Mendapatkan skor kesamaan buku dengan semua buku\n",
        "    sim_scores = list(enumerate(cosine_sim[idx]))\n",
        "\n",
        "    # Mengurutkan buku berdasarkan skor kesamaan\n",
        "    sim_scores = sorted(sim_scores, key=lambda x: x[1], reverse=True)\n",
        "\n",
        "    # Mendapatkan 10 buku dengan skor tertinggi (tidak termasuk buku itu sendiri)\n",
        "    sim_scores = sim_scores[1:11]\n",
        "\n",
        "    # Mendapatkan indeks buku\n",
        "    book_indices = [i[0] for i in sim_scores]\n",
        "\n",
        "    # Mengembalikan 10 buku teratas\n",
        "    result = df.iloc[book_indices][['title', 'authors', 'original_publication_year']]\n",
        "\n",
        "    if verbose:\n",
        "        print(\"\\nRekomendasi Buku Berdasarkan:\", title)\n",
        "        print(\"=\"*100)\n",
        "        print(\"{:<4} {:<50} {:<30} {:<10}\".format(\"No\", \"Judul\", \"Penulis\", \"Tahun\"))\n",
        "        print(\"-\"*100)\n",
        "\n",
        "        for i, (_, row) in enumerate(result.iterrows()):\n",
        "            print(\"{:<4} {:<50} {:<30} {:<10}\".format(\n",
        "                i+1,\n",
        "                row['title'][:47] + \"...\" if len(row['title']) > 47 else row['title'],\n",
        "                row['authors'][:27] + \"...\" if len(row['authors']) > 27 else row['authors'],\n",
        "                int(row['original_publication_year']) if not pd.isna(row['original_publication_year']) else \"N/A\"\n",
        "            ))\n",
        "        return None\n",
        "\n",
        "    return result"
      ]
    },
    {
      "cell_type": "code",
      "execution_count": 40,
      "metadata": {
        "colab": {
          "base_uri": "https://localhost:8080/"
        },
        "id": "OHshUpjFkdjw",
        "outputId": "21aaf87f-367b-4538-bc58-8cc39d38252a"
      },
      "outputs": [
        {
          "name": "stdout",
          "output_type": "stream",
          "text": [
            "\n",
            "Rekomendasi Buku Berdasarkan: The Hobbit\n",
            "====================================================================================================\n",
            "No   Judul                                              Penulis                        Tahun     \n",
            "----------------------------------------------------------------------------------------------------\n",
            "1    The Fellowship of the Ring (The Lord of the Rin... J.R.R. Tolkien                 1954      \n",
            "2    The Two Towers (The Lord of the Rings, #2)         J.R.R. Tolkien                 1954      \n",
            "3    The Return of the King (The Lord of the Rings, ... J.R.R. Tolkien                 1955      \n",
            "4    The Lord of the Rings (The Lord of the Rings, #... J.R.R. Tolkien                 1955      \n",
            "5    J.R.R. Tolkien 4-Book Boxed Set: The Hobbit and... J.R.R. Tolkien                 1973      \n",
            "6    Unfinished Tales of Númenor and Middle-Earth       J.R.R. Tolkien, Christopher... 1980      \n",
            "7    The Children of Húrin                              J.R.R. Tolkien, Christopher... 2007      \n",
            "8    The Silmarillion (Middle-Earth Universe)           J.R.R. Tolkien, Christopher... 1977      \n",
            "9    The Complete Guide to Middle-Earth                 Robert Foster, J.R.R. Tolki... 1974      \n",
            "10   The History of the Hobbit, Part One: Mr. Baggin... John D. Rateliff, J.R.R. To... 2007      \n"
          ]
        }
      ],
      "source": [
        "# Contoh rekomendasi untuk buku \"The Hobbit\"\n",
        "try:\n",
        "    hobbit_title = books_with_tags[books_with_tags['title'].str.contains('The Hobbit', case=False)]['title'].iloc[0]\n",
        "    get_content_based_recommendations(hobbit_title)\n",
        "except:\n",
        "    print(\"Buku 'The Hobbit' tidak ditemukan dalam dataset, mencoba buku lain...\")\n",
        "    print(\"\\nRekomendasi buku berdasarkan buku populer dalam dataset:\")\n",
        "    popular_book = books_with_tags.iloc[0]['title']\n",
        "    print(f\"Menggunakan buku: {popular_book}\")\n",
        "    get_content_based_recommendations(popular_book)"
      ]
    },
    {
      "cell_type": "markdown",
      "metadata": {
        "id": "ZPsDtY2qqsHp"
      },
      "source": [
        "### 2. Collaborative Filtering\n",
        "Untuk model collaborative filtering, kita akan menggunakan algoritma berbasis deep learning dengan TensorFlow."
      ]
    },
    {
      "cell_type": "code",
      "execution_count": 41,
      "metadata": {
        "id": "zsQjXuC6qrdi"
      },
      "outputs": [],
      "source": [
        "# Preprocessing data\n",
        "# Encode userId dan bookId\n",
        "user_ids = ratings_subset['user_id'].unique().tolist()\n",
        "user_to_user_encoded = {x: i for i, x in enumerate(user_ids)}\n",
        "user_encoded_to_user = {i: x for i, x in enumerate(user_ids)}\n",
        "\n",
        "book_ids = ratings_subset['book_id'].unique().tolist()\n",
        "book_to_book_encoded = {x: i for i, x in enumerate(book_ids)}\n",
        "book_encoded_to_book = {i: x for i, x in enumerate(book_ids)}"
      ]
    },
    {
      "cell_type": "code",
      "execution_count": 42,
      "metadata": {
        "id": "zLtw9SS4q7mC"
      },
      "outputs": [],
      "source": [
        "# Mapping encode\n",
        "ratings_subset['user'] = ratings_subset['user_id'].map(user_to_user_encoded)\n",
        "ratings_subset['book'] = ratings_subset['book_id'].map(book_to_book_encoded)\n",
        "\n",
        "num_users = len(user_to_user_encoded)\n",
        "num_books = len(book_to_book_encoded)\n",
        "ratings_subset['rating'] = ratings_subset['rating'].values.astype(np.float32)"
      ]
    },
    {
      "cell_type": "code",
      "execution_count": 43,
      "metadata": {
        "colab": {
          "base_uri": "https://localhost:8080/"
        },
        "id": "tbnStCMwq9hj",
        "outputId": "3991d19a-14d5-4f4d-f86b-cffdd920e344"
      },
      "outputs": [
        {
          "name": "stdout",
          "output_type": "stream",
          "text": [
            "Jumlah pengguna: 4634, Jumlah buku: 783\n",
            "Rating minimum: 1.0, Rating maksimum: 5.0\n"
          ]
        }
      ],
      "source": [
        "# Min dan max rating\n",
        "min_rating = min(ratings_subset['rating'])\n",
        "max_rating = max(ratings_subset['rating'])\n",
        "\n",
        "print(f\"Jumlah pengguna: {num_users}, Jumlah buku: {num_books}\")\n",
        "print(f\"Rating minimum: {min_rating}, Rating maksimum: {max_rating}\")"
      ]
    },
    {
      "cell_type": "code",
      "execution_count": 44,
      "metadata": {
        "id": "_PVgy2inq_7U"
      },
      "outputs": [],
      "source": [
        "# Membagi data untuk training dan validasi\n",
        "x = ratings_subset[['user', 'book']].values\n",
        "y = ratings_subset['rating'].apply(lambda x: (x - min_rating) / (max_rating - min_rating)).values"
      ]
    },
    {
      "cell_type": "code",
      "execution_count": 45,
      "metadata": {
        "id": "U8aRL_hwrBiJ"
      },
      "outputs": [],
      "source": [
        "# Split data\n",
        "train_indices = int(0.8 * len(ratings_subset))\n",
        "x_train, x_val, y_train, y_val = (\n",
        "    x[:train_indices],\n",
        "    x[train_indices:],\n",
        "    y[:train_indices],\n",
        "    y[train_indices:]\n",
        ")"
      ]
    },
    {
      "cell_type": "code",
      "execution_count": 46,
      "metadata": {
        "id": "y4ZtRV9krD1H"
      },
      "outputs": [],
      "source": [
        "# Model Collaborative Filtering\n",
        "class RecommenderNet(keras.Model):\n",
        "    def __init__(self, num_users, num_books, embedding_size, **kwargs):\n",
        "        super(RecommenderNet, self).__init__(**kwargs)\n",
        "        self.num_users = num_users\n",
        "        self.num_books = num_books\n",
        "        self.embedding_size = embedding_size\n",
        "        self.user_embedding = layers.Embedding(\n",
        "            num_users,\n",
        "            embedding_size,\n",
        "            embeddings_initializer='he_normal',\n",
        "            embeddings_regularizer=keras.regularizers.l2(1e-6)\n",
        "        )\n",
        "        self.user_bias = layers.Embedding(num_users, 1)\n",
        "        self.book_embedding = layers.Embedding(\n",
        "            num_books,\n",
        "            embedding_size,\n",
        "            embeddings_initializer='he_normal',\n",
        "            embeddings_regularizer=keras.regularizers.l2(1e-6)\n",
        "        )\n",
        "        self.book_bias = layers.Embedding(num_books, 1)\n",
        "\n",
        "    def call(self, inputs):\n",
        "        user_vector = self.user_embedding(inputs[:, 0])\n",
        "        user_bias = self.user_bias(inputs[:, 0])\n",
        "        book_vector = self.book_embedding(inputs[:, 1])\n",
        "        book_bias = self.book_bias(inputs[:, 1])\n",
        "\n",
        "        dot_user_book = tf.tensordot(user_vector, book_vector, 2)\n",
        "\n",
        "        x = dot_user_book + user_bias + book_bias\n",
        "\n",
        "        return tf.nn.sigmoid(x)"
      ]
    },
    {
      "cell_type": "code",
      "execution_count": 47,
      "metadata": {
        "id": "mFYji8efrGM7"
      },
      "outputs": [],
      "source": [
        "# Kompilasi model\n",
        "model = RecommenderNet(num_users, num_books, 50)\n",
        "model.compile(\n",
        "    loss=tf.keras.losses.BinaryCrossentropy(),\n",
        "    optimizer=keras.optimizers.Adam(learning_rate=0.001),\n",
        "    metrics=[tf.keras.metrics.RootMeanSquaredError()]\n",
        ")"
      ]
    },
    {
      "cell_type": "code",
      "execution_count": 48,
      "metadata": {
        "colab": {
          "base_uri": "https://localhost:8080/"
        },
        "id": "WwgwZst7rHzS",
        "outputId": "ed95defd-d279-43a9-8430-97329daaf0ef"
      },
      "outputs": [
        {
          "name": "stdout",
          "output_type": "stream",
          "text": [
            "Epoch 1/100\n",
            "\u001b[1m456/456\u001b[0m \u001b[32m━━━━━━━━━━━━━━━━━━━━\u001b[0m\u001b[37m\u001b[0m \u001b[1m12s\u001b[0m 15ms/step - loss: 0.6807 - root_mean_squared_error: 0.3164 - val_loss: 0.6882 - val_root_mean_squared_error: 0.3229\n",
            "Epoch 2/100\n",
            "\u001b[1m456/456\u001b[0m \u001b[32m━━━━━━━━━━━━━━━━━━━━\u001b[0m\u001b[37m\u001b[0m \u001b[1m7s\u001b[0m 8ms/step - loss: 0.6213 - root_mean_squared_error: 0.2623 - val_loss: 0.6879 - val_root_mean_squared_error: 0.3227\n",
            "Epoch 3/100\n",
            "\u001b[1m456/456\u001b[0m \u001b[32m━━━━━━━━━━━━━━━━━━━━\u001b[0m\u001b[37m\u001b[0m \u001b[1m3s\u001b[0m 6ms/step - loss: 0.5925 - root_mean_squared_error: 0.2407 - val_loss: 0.6850 - val_root_mean_squared_error: 0.3204\n",
            "Epoch 4/100\n",
            "\u001b[1m456/456\u001b[0m \u001b[32m━━━━━━━━━━━━━━━━━━━━\u001b[0m\u001b[37m\u001b[0m \u001b[1m6s\u001b[0m 8ms/step - loss: 0.5847 - root_mean_squared_error: 0.2351 - val_loss: 0.6833 - val_root_mean_squared_error: 0.3191\n",
            "Epoch 5/100\n",
            "\u001b[1m456/456\u001b[0m \u001b[32m━━━━━━━━━━━━━━━━━━━━\u001b[0m\u001b[37m\u001b[0m \u001b[1m4s\u001b[0m 7ms/step - loss: 0.5787 - root_mean_squared_error: 0.2304 - val_loss: 0.6811 - val_root_mean_squared_error: 0.3173\n",
            "Epoch 6/100\n",
            "\u001b[1m456/456\u001b[0m \u001b[32m━━━━━━━━━━━━━━━━━━━━\u001b[0m\u001b[37m\u001b[0m \u001b[1m6s\u001b[0m 9ms/step - loss: 0.5751 - root_mean_squared_error: 0.2265 - val_loss: 0.6794 - val_root_mean_squared_error: 0.3160\n",
            "Epoch 7/100\n",
            "\u001b[1m456/456\u001b[0m \u001b[32m━━━━━━━━━━━━━━━━━━━━\u001b[0m\u001b[37m\u001b[0m \u001b[1m3s\u001b[0m 6ms/step - loss: 0.5722 - root_mean_squared_error: 0.2236 - val_loss: 0.6773 - val_root_mean_squared_error: 0.3143\n",
            "Epoch 8/100\n",
            "\u001b[1m456/456\u001b[0m \u001b[32m━━━━━━━━━━━━━━━━━━━━\u001b[0m\u001b[37m\u001b[0m \u001b[1m3s\u001b[0m 6ms/step - loss: 0.5709 - root_mean_squared_error: 0.2226 - val_loss: 0.6757 - val_root_mean_squared_error: 0.3130\n",
            "Epoch 9/100\n",
            "\u001b[1m456/456\u001b[0m \u001b[32m━━━━━━━━━━━━━━━━━━━━\u001b[0m\u001b[37m\u001b[0m \u001b[1m3s\u001b[0m 6ms/step - loss: 0.5688 - root_mean_squared_error: 0.2222 - val_loss: 0.6743 - val_root_mean_squared_error: 0.3119\n",
            "Epoch 10/100\n",
            "\u001b[1m456/456\u001b[0m \u001b[32m━━━━━━━━━━━━━━━━━━━━\u001b[0m\u001b[37m\u001b[0m \u001b[1m6s\u001b[0m 8ms/step - loss: 0.5668 - root_mean_squared_error: 0.2213 - val_loss: 0.6730 - val_root_mean_squared_error: 0.3108\n",
            "Epoch 11/100\n",
            "\u001b[1m456/456\u001b[0m \u001b[32m━━━━━━━━━━━━━━━━━━━━\u001b[0m\u001b[37m\u001b[0m \u001b[1m3s\u001b[0m 6ms/step - loss: 0.5642 - root_mean_squared_error: 0.2169 - val_loss: 0.6717 - val_root_mean_squared_error: 0.3098\n",
            "Epoch 12/100\n",
            "\u001b[1m456/456\u001b[0m \u001b[32m━━━━━━━━━━━━━━━━━━━━\u001b[0m\u001b[37m\u001b[0m \u001b[1m5s\u001b[0m 6ms/step - loss: 0.5698 - root_mean_squared_error: 0.2215 - val_loss: 0.6706 - val_root_mean_squared_error: 0.3089\n",
            "Epoch 13/100\n",
            "\u001b[1m456/456\u001b[0m \u001b[32m━━━━━━━━━━━━━━━━━━━━\u001b[0m\u001b[37m\u001b[0m \u001b[1m6s\u001b[0m 8ms/step - loss: 0.5663 - root_mean_squared_error: 0.2176 - val_loss: 0.6697 - val_root_mean_squared_error: 0.3081\n",
            "Epoch 14/100\n",
            "\u001b[1m456/456\u001b[0m \u001b[32m━━━━━━━━━━━━━━━━━━━━\u001b[0m\u001b[37m\u001b[0m \u001b[1m3s\u001b[0m 6ms/step - loss: 0.5681 - root_mean_squared_error: 0.2197 - val_loss: 0.6681 - val_root_mean_squared_error: 0.3068\n",
            "Epoch 15/100\n",
            "\u001b[1m456/456\u001b[0m \u001b[32m━━━━━━━━━━━━━━━━━━━━\u001b[0m\u001b[37m\u001b[0m \u001b[1m6s\u001b[0m 9ms/step - loss: 0.5646 - root_mean_squared_error: 0.2177 - val_loss: 0.6675 - val_root_mean_squared_error: 0.3064\n",
            "Epoch 16/100\n",
            "\u001b[1m456/456\u001b[0m \u001b[32m━━━━━━━━━━━━━━━━━━━━\u001b[0m\u001b[37m\u001b[0m \u001b[1m4s\u001b[0m 6ms/step - loss: 0.5650 - root_mean_squared_error: 0.2189 - val_loss: 0.6664 - val_root_mean_squared_error: 0.3055\n",
            "Epoch 17/100\n",
            "\u001b[1m456/456\u001b[0m \u001b[32m━━━━━━━━━━━━━━━━━━━━\u001b[0m\u001b[37m\u001b[0m \u001b[1m5s\u001b[0m 6ms/step - loss: 0.5636 - root_mean_squared_error: 0.2179 - val_loss: 0.6663 - val_root_mean_squared_error: 0.3054\n",
            "Epoch 18/100\n",
            "\u001b[1m456/456\u001b[0m \u001b[32m━━━━━━━━━━━━━━━━━━━━\u001b[0m\u001b[37m\u001b[0m \u001b[1m4s\u001b[0m 9ms/step - loss: 0.5659 - root_mean_squared_error: 0.2199 - val_loss: 0.6650 - val_root_mean_squared_error: 0.3044\n",
            "Epoch 19/100\n",
            "\u001b[1m456/456\u001b[0m \u001b[32m━━━━━━━━━━━━━━━━━━━━\u001b[0m\u001b[37m\u001b[0m \u001b[1m3s\u001b[0m 6ms/step - loss: 0.5630 - root_mean_squared_error: 0.2144 - val_loss: 0.6648 - val_root_mean_squared_error: 0.3042\n",
            "Epoch 20/100\n",
            "\u001b[1m456/456\u001b[0m \u001b[32m━━━━━━━━━━━━━━━━━━━━\u001b[0m\u001b[37m\u001b[0m \u001b[1m3s\u001b[0m 6ms/step - loss: 0.5556 - root_mean_squared_error: 0.2101 - val_loss: 0.6637 - val_root_mean_squared_error: 0.3034\n",
            "Epoch 21/100\n",
            "\u001b[1m456/456\u001b[0m \u001b[32m━━━━━━━━━━━━━━━━━━━━\u001b[0m\u001b[37m\u001b[0m \u001b[1m3s\u001b[0m 7ms/step - loss: 0.5588 - root_mean_squared_error: 0.2105 - val_loss: 0.6635 - val_root_mean_squared_error: 0.3033\n",
            "Epoch 22/100\n",
            "\u001b[1m456/456\u001b[0m \u001b[32m━━━━━━━━━━━━━━━━━━━━\u001b[0m\u001b[37m\u001b[0m \u001b[1m5s\u001b[0m 7ms/step - loss: 0.5565 - root_mean_squared_error: 0.2100 - val_loss: 0.6624 - val_root_mean_squared_error: 0.3025\n",
            "Epoch 23/100\n",
            "\u001b[1m456/456\u001b[0m \u001b[32m━━━━━━━━━━━━━━━━━━━━\u001b[0m\u001b[37m\u001b[0m \u001b[1m3s\u001b[0m 6ms/step - loss: 0.5586 - root_mean_squared_error: 0.2141 - val_loss: 0.6627 - val_root_mean_squared_error: 0.3027\n",
            "Epoch 24/100\n",
            "\u001b[1m456/456\u001b[0m \u001b[32m━━━━━━━━━━━━━━━━━━━━\u001b[0m\u001b[37m\u001b[0m \u001b[1m5s\u001b[0m 7ms/step - loss: 0.5529 - root_mean_squared_error: 0.2095 - val_loss: 0.6616 - val_root_mean_squared_error: 0.3019\n",
            "Epoch 25/100\n",
            "\u001b[1m456/456\u001b[0m \u001b[32m━━━━━━━━━━━━━━━━━━━━\u001b[0m\u001b[37m\u001b[0m \u001b[1m4s\u001b[0m 9ms/step - loss: 0.5537 - root_mean_squared_error: 0.2102 - val_loss: 0.6618 - val_root_mean_squared_error: 0.3021\n",
            "Epoch 26/100\n",
            "\u001b[1m456/456\u001b[0m \u001b[32m━━━━━━━━━━━━━━━━━━━━\u001b[0m\u001b[37m\u001b[0m \u001b[1m4s\u001b[0m 7ms/step - loss: 0.5551 - root_mean_squared_error: 0.2080 - val_loss: 0.6611 - val_root_mean_squared_error: 0.3016\n",
            "Epoch 27/100\n",
            "\u001b[1m456/456\u001b[0m \u001b[32m━━━━━━━━━━━━━━━━━━━━\u001b[0m\u001b[37m\u001b[0m \u001b[1m5s\u001b[0m 8ms/step - loss: 0.5524 - root_mean_squared_error: 0.2074 - val_loss: 0.6612 - val_root_mean_squared_error: 0.3017\n",
            "Epoch 28/100\n",
            "\u001b[1m456/456\u001b[0m \u001b[32m━━━━━━━━━━━━━━━━━━━━\u001b[0m\u001b[37m\u001b[0m \u001b[1m3s\u001b[0m 7ms/step - loss: 0.5521 - root_mean_squared_error: 0.2049 - val_loss: 0.6603 - val_root_mean_squared_error: 0.3010\n",
            "Epoch 29/100\n",
            "\u001b[1m456/456\u001b[0m \u001b[32m━━━━━━━━━━━━━━━━━━━━\u001b[0m\u001b[37m\u001b[0m \u001b[1m3s\u001b[0m 6ms/step - loss: 0.5540 - root_mean_squared_error: 0.2085 - val_loss: 0.6603 - val_root_mean_squared_error: 0.3011\n",
            "Epoch 30/100\n",
            "\u001b[1m456/456\u001b[0m \u001b[32m━━━━━━━━━━━━━━━━━━━━\u001b[0m\u001b[37m\u001b[0m \u001b[1m3s\u001b[0m 6ms/step - loss: 0.5461 - root_mean_squared_error: 0.2025 - val_loss: 0.6595 - val_root_mean_squared_error: 0.3005\n",
            "Epoch 31/100\n",
            "\u001b[1m456/456\u001b[0m \u001b[32m━━━━━━━━━━━━━━━━━━━━\u001b[0m\u001b[37m\u001b[0m \u001b[1m6s\u001b[0m 8ms/step - loss: 0.5496 - root_mean_squared_error: 0.2035 - val_loss: 0.6599 - val_root_mean_squared_error: 0.3008\n",
            "Epoch 32/100\n",
            "\u001b[1m456/456\u001b[0m \u001b[32m━━━━━━━━━━━━━━━━━━━━\u001b[0m\u001b[37m\u001b[0m \u001b[1m4s\u001b[0m 6ms/step - loss: 0.5517 - root_mean_squared_error: 0.2076 - val_loss: 0.6592 - val_root_mean_squared_error: 0.3004\n",
            "Epoch 33/100\n",
            "\u001b[1m456/456\u001b[0m \u001b[32m━━━━━━━━━━━━━━━━━━━━\u001b[0m\u001b[37m\u001b[0m \u001b[1m6s\u001b[0m 8ms/step - loss: 0.5504 - root_mean_squared_error: 0.2052 - val_loss: 0.6596 - val_root_mean_squared_error: 0.3007\n",
            "Epoch 34/100\n",
            "\u001b[1m456/456\u001b[0m \u001b[32m━━━━━━━━━━━━━━━━━━━━\u001b[0m\u001b[37m\u001b[0m \u001b[1m5s\u001b[0m 6ms/step - loss: 0.5495 - root_mean_squared_error: 0.2055 - val_loss: 0.6588 - val_root_mean_squared_error: 0.3001\n",
            "Epoch 35/100\n",
            "\u001b[1m456/456\u001b[0m \u001b[32m━━━━━━━━━━━━━━━━━━━━\u001b[0m\u001b[37m\u001b[0m \u001b[1m5s\u001b[0m 6ms/step - loss: 0.5477 - root_mean_squared_error: 0.2036 - val_loss: 0.6594 - val_root_mean_squared_error: 0.3006\n",
            "Epoch 36/100\n",
            "\u001b[1m456/456\u001b[0m \u001b[32m━━━━━━━━━━━━━━━━━━━━\u001b[0m\u001b[37m\u001b[0m \u001b[1m4s\u001b[0m 9ms/step - loss: 0.5483 - root_mean_squared_error: 0.2053 - val_loss: 0.6584 - val_root_mean_squared_error: 0.2999\n",
            "Epoch 37/100\n",
            "\u001b[1m456/456\u001b[0m \u001b[32m━━━━━━━━━━━━━━━━━━━━\u001b[0m\u001b[37m\u001b[0m \u001b[1m4s\u001b[0m 6ms/step - loss: 0.5497 - root_mean_squared_error: 0.2041 - val_loss: 0.6591 - val_root_mean_squared_error: 0.3005\n",
            "Epoch 38/100\n",
            "\u001b[1m456/456\u001b[0m \u001b[32m━━━━━━━━━━━━━━━━━━━━\u001b[0m\u001b[37m\u001b[0m \u001b[1m5s\u001b[0m 6ms/step - loss: 0.5507 - root_mean_squared_error: 0.2074 - val_loss: 0.6579 - val_root_mean_squared_error: 0.2996\n",
            "Epoch 39/100\n",
            "\u001b[1m456/456\u001b[0m \u001b[32m━━━━━━━━━━━━━━━━━━━━\u001b[0m\u001b[37m\u001b[0m \u001b[1m5s\u001b[0m 7ms/step - loss: 0.5493 - root_mean_squared_error: 0.2061 - val_loss: 0.6588 - val_root_mean_squared_error: 0.3004\n",
            "Epoch 40/100\n",
            "\u001b[1m456/456\u001b[0m \u001b[32m━━━━━━━━━━━━━━━━━━━━\u001b[0m\u001b[37m\u001b[0m \u001b[1m5s\u001b[0m 6ms/step - loss: 0.5513 - root_mean_squared_error: 0.2077 - val_loss: 0.6579 - val_root_mean_squared_error: 0.2997\n",
            "Epoch 41/100\n",
            "\u001b[1m456/456\u001b[0m \u001b[32m━━━━━━━━━━━━━━━━━━━━\u001b[0m\u001b[37m\u001b[0m \u001b[1m6s\u001b[0m 9ms/step - loss: 0.5568 - root_mean_squared_error: 0.2090 - val_loss: 0.6587 - val_root_mean_squared_error: 0.3004\n",
            "Epoch 42/100\n",
            "\u001b[1m456/456\u001b[0m \u001b[32m━━━━━━━━━━━━━━━━━━━━\u001b[0m\u001b[37m\u001b[0m \u001b[1m3s\u001b[0m 6ms/step - loss: 0.5528 - root_mean_squared_error: 0.2116 - val_loss: 0.6576 - val_root_mean_squared_error: 0.2995\n",
            "Epoch 43/100\n",
            "\u001b[1m456/456\u001b[0m \u001b[32m━━━━━━━━━━━━━━━━━━━━\u001b[0m\u001b[37m\u001b[0m \u001b[1m5s\u001b[0m 6ms/step - loss: 0.5560 - root_mean_squared_error: 0.2104 - val_loss: 0.6588 - val_root_mean_squared_error: 0.3005\n",
            "Epoch 44/100\n",
            "\u001b[1m456/456\u001b[0m \u001b[32m━━━━━━━━━━━━━━━━━━━━\u001b[0m\u001b[37m\u001b[0m \u001b[1m4s\u001b[0m 8ms/step - loss: 0.5549 - root_mean_squared_error: 0.2099 - val_loss: 0.6576 - val_root_mean_squared_error: 0.2996\n",
            "Epoch 45/100\n",
            "\u001b[1m456/456\u001b[0m \u001b[32m━━━━━━━━━━━━━━━━━━━━\u001b[0m\u001b[37m\u001b[0m \u001b[1m3s\u001b[0m 7ms/step - loss: 0.5522 - root_mean_squared_error: 0.2084 - val_loss: 0.6586 - val_root_mean_squared_error: 0.3005\n",
            "Epoch 46/100\n",
            "\u001b[1m456/456\u001b[0m \u001b[32m━━━━━━━━━━━━━━━━━━━━\u001b[0m\u001b[37m\u001b[0m \u001b[1m5s\u001b[0m 7ms/step - loss: 0.5518 - root_mean_squared_error: 0.2093 - val_loss: 0.6573 - val_root_mean_squared_error: 0.2994\n",
            "Epoch 47/100\n",
            "\u001b[1m456/456\u001b[0m \u001b[32m━━━━━━━━━━━━━━━━━━━━\u001b[0m\u001b[37m\u001b[0m \u001b[1m3s\u001b[0m 7ms/step - loss: 0.5546 - root_mean_squared_error: 0.2082 - val_loss: 0.6585 - val_root_mean_squared_error: 0.3004\n",
            "Epoch 48/100\n",
            "\u001b[1m456/456\u001b[0m \u001b[32m━━━━━━━━━━━━━━━━━━━━\u001b[0m\u001b[37m\u001b[0m \u001b[1m4s\u001b[0m 8ms/step - loss: 0.5577 - root_mean_squared_error: 0.2133 - val_loss: 0.6570 - val_root_mean_squared_error: 0.2993\n",
            "Epoch 49/100\n",
            "\u001b[1m456/456\u001b[0m \u001b[32m━━━━━━━━━━━━━━━━━━━━\u001b[0m\u001b[37m\u001b[0m \u001b[1m3s\u001b[0m 6ms/step - loss: 0.5527 - root_mean_squared_error: 0.2100 - val_loss: 0.6585 - val_root_mean_squared_error: 0.3005\n",
            "Epoch 50/100\n",
            "\u001b[1m456/456\u001b[0m \u001b[32m━━━━━━━━━━━━━━━━━━━━\u001b[0m\u001b[37m\u001b[0m \u001b[1m3s\u001b[0m 6ms/step - loss: 0.5531 - root_mean_squared_error: 0.2089 - val_loss: 0.6568 - val_root_mean_squared_error: 0.2992\n",
            "Epoch 51/100\n",
            "\u001b[1m456/456\u001b[0m \u001b[32m━━━━━━━━━━━━━━━━━━━━\u001b[0m\u001b[37m\u001b[0m \u001b[1m3s\u001b[0m 7ms/step - loss: 0.5568 - root_mean_squared_error: 0.2111 - val_loss: 0.6586 - val_root_mean_squared_error: 0.3007\n",
            "Epoch 52/100\n",
            "\u001b[1m456/456\u001b[0m \u001b[32m━━━━━━━━━━━━━━━━━━━━\u001b[0m\u001b[37m\u001b[0m \u001b[1m4s\u001b[0m 8ms/step - loss: 0.5574 - root_mean_squared_error: 0.2145 - val_loss: 0.6569 - val_root_mean_squared_error: 0.2993\n",
            "Epoch 53/100\n",
            "\u001b[1m456/456\u001b[0m \u001b[32m━━━━━━━━━━━━━━━━━━━━\u001b[0m\u001b[37m\u001b[0m \u001b[1m3s\u001b[0m 6ms/step - loss: 0.5537 - root_mean_squared_error: 0.2096 - val_loss: 0.6587 - val_root_mean_squared_error: 0.3007\n",
            "Epoch 54/100\n",
            "\u001b[1m456/456\u001b[0m \u001b[32m━━━━━━━━━━━━━━━━━━━━\u001b[0m\u001b[37m\u001b[0m \u001b[1m3s\u001b[0m 6ms/step - loss: 0.5529 - root_mean_squared_error: 0.2103 - val_loss: 0.6570 - val_root_mean_squared_error: 0.2994\n",
            "Epoch 55/100\n",
            "\u001b[1m456/456\u001b[0m \u001b[32m━━━━━━━━━━━━━━━━━━━━\u001b[0m\u001b[37m\u001b[0m \u001b[1m3s\u001b[0m 7ms/step - loss: 0.5631 - root_mean_squared_error: 0.2131 - val_loss: 0.6589 - val_root_mean_squared_error: 0.3010\n",
            "Epoch 56/100\n",
            "\u001b[1m456/456\u001b[0m \u001b[32m━━━━━━━━━━━━━━━━━━━━\u001b[0m\u001b[37m\u001b[0m \u001b[1m4s\u001b[0m 8ms/step - loss: 0.5603 - root_mean_squared_error: 0.2159 - val_loss: 0.6569 - val_root_mean_squared_error: 0.2995\n",
            "Epoch 57/100\n",
            "\u001b[1m456/456\u001b[0m \u001b[32m━━━━━━━━━━━━━━━━━━━━\u001b[0m\u001b[37m\u001b[0m \u001b[1m3s\u001b[0m 6ms/step - loss: 0.5551 - root_mean_squared_error: 0.2090 - val_loss: 0.6588 - val_root_mean_squared_error: 0.3010\n",
            "Epoch 58/100\n",
            "\u001b[1m456/456\u001b[0m \u001b[32m━━━━━━━━━━━━━━━━━━━━\u001b[0m\u001b[37m\u001b[0m \u001b[1m3s\u001b[0m 6ms/step - loss: 0.5588 - root_mean_squared_error: 0.2148 - val_loss: 0.6569 - val_root_mean_squared_error: 0.2995\n",
            "Epoch 59/100\n",
            "\u001b[1m456/456\u001b[0m \u001b[32m━━━━━━━━━━━━━━━━━━━━\u001b[0m\u001b[37m\u001b[0m \u001b[1m6s\u001b[0m 9ms/step - loss: 0.5546 - root_mean_squared_error: 0.2085 - val_loss: 0.6588 - val_root_mean_squared_error: 0.3010\n",
            "Epoch 60/100\n",
            "\u001b[1m456/456\u001b[0m \u001b[32m━━━━━━━━━━━━━━━━━━━━\u001b[0m\u001b[37m\u001b[0m \u001b[1m4s\u001b[0m 6ms/step - loss: 0.5567 - root_mean_squared_error: 0.2118 - val_loss: 0.6570 - val_root_mean_squared_error: 0.2996\n",
            "Epoch 61/100\n",
            "\u001b[1m456/456\u001b[0m \u001b[32m━━━━━━━━━━━━━━━━━━━━\u001b[0m\u001b[37m\u001b[0m \u001b[1m3s\u001b[0m 6ms/step - loss: 0.5517 - root_mean_squared_error: 0.2059 - val_loss: 0.6588 - val_root_mean_squared_error: 0.3010\n",
            "Epoch 62/100\n",
            "\u001b[1m456/456\u001b[0m \u001b[32m━━━━━━━━━━━━━━━━━━━━\u001b[0m\u001b[37m\u001b[0m \u001b[1m7s\u001b[0m 10ms/step - loss: 0.5486 - root_mean_squared_error: 0.2084 - val_loss: 0.6570 - val_root_mean_squared_error: 0.2996\n",
            "Epoch 63/100\n",
            "\u001b[1m456/456\u001b[0m \u001b[32m━━━━━━━━━━━━━━━━━━━━\u001b[0m\u001b[37m\u001b[0m \u001b[1m3s\u001b[0m 7ms/step - loss: 0.5553 - root_mean_squared_error: 0.2075 - val_loss: 0.6587 - val_root_mean_squared_error: 0.3009\n",
            "Epoch 64/100\n",
            "\u001b[1m456/456\u001b[0m \u001b[32m━━━━━━━━━━━━━━━━━━━━\u001b[0m\u001b[37m\u001b[0m \u001b[1m5s\u001b[0m 7ms/step - loss: 0.5529 - root_mean_squared_error: 0.2097 - val_loss: 0.6568 - val_root_mean_squared_error: 0.2994\n",
            "Epoch 65/100\n",
            "\u001b[1m456/456\u001b[0m \u001b[32m━━━━━━━━━━━━━━━━━━━━\u001b[0m\u001b[37m\u001b[0m \u001b[1m5s\u001b[0m 10ms/step - loss: 0.5554 - root_mean_squared_error: 0.2111 - val_loss: 0.6587 - val_root_mean_squared_error: 0.3009\n",
            "Epoch 66/100\n",
            "\u001b[1m456/456\u001b[0m \u001b[32m━━━━━━━━━━━━━━━━━━━━\u001b[0m\u001b[37m\u001b[0m \u001b[1m3s\u001b[0m 7ms/step - loss: 0.5509 - root_mean_squared_error: 0.2081 - val_loss: 0.6570 - val_root_mean_squared_error: 0.2996\n",
            "Epoch 67/100\n",
            "\u001b[1m456/456\u001b[0m \u001b[32m━━━━━━━━━━━━━━━━━━━━\u001b[0m\u001b[37m\u001b[0m \u001b[1m5s\u001b[0m 7ms/step - loss: 0.5518 - root_mean_squared_error: 0.2079 - val_loss: 0.6591 - val_root_mean_squared_error: 0.3012\n",
            "Epoch 68/100\n",
            "\u001b[1m456/456\u001b[0m \u001b[32m━━━━━━━━━━━━━━━━━━━━\u001b[0m\u001b[37m\u001b[0m \u001b[1m5s\u001b[0m 8ms/step - loss: 0.5507 - root_mean_squared_error: 0.2106 - val_loss: 0.6573 - val_root_mean_squared_error: 0.2998\n",
            "Epoch 69/100\n",
            "\u001b[1m456/456\u001b[0m \u001b[32m━━━━━━━━━━━━━━━━━━━━\u001b[0m\u001b[37m\u001b[0m \u001b[1m3s\u001b[0m 6ms/step - loss: 0.5560 - root_mean_squared_error: 0.2090 - val_loss: 0.6591 - val_root_mean_squared_error: 0.3012\n",
            "Epoch 70/100\n",
            "\u001b[1m456/456\u001b[0m \u001b[32m━━━━━━━━━━━━━━━━━━━━\u001b[0m\u001b[37m\u001b[0m \u001b[1m5s\u001b[0m 7ms/step - loss: 0.5492 - root_mean_squared_error: 0.2076 - val_loss: 0.6572 - val_root_mean_squared_error: 0.2997\n",
            "Epoch 71/100\n",
            "\u001b[1m456/456\u001b[0m \u001b[32m━━━━━━━━━━━━━━━━━━━━\u001b[0m\u001b[37m\u001b[0m \u001b[1m5s\u001b[0m 7ms/step - loss: 0.5556 - root_mean_squared_error: 0.2085 - val_loss: 0.6593 - val_root_mean_squared_error: 0.3012\n",
            "Epoch 72/100\n",
            "\u001b[1m456/456\u001b[0m \u001b[32m━━━━━━━━━━━━━━━━━━━━\u001b[0m\u001b[37m\u001b[0m \u001b[1m5s\u001b[0m 6ms/step - loss: 0.5535 - root_mean_squared_error: 0.2107 - val_loss: 0.6573 - val_root_mean_squared_error: 0.2997\n",
            "Epoch 73/100\n",
            "\u001b[1m456/456\u001b[0m \u001b[32m━━━━━━━━━━━━━━━━━━━━\u001b[0m\u001b[37m\u001b[0m \u001b[1m6s\u001b[0m 8ms/step - loss: 0.5525 - root_mean_squared_error: 0.2084 - val_loss: 0.6595 - val_root_mean_squared_error: 0.3014\n",
            "Epoch 74/100\n",
            "\u001b[1m456/456\u001b[0m \u001b[32m━━━━━━━━━━━━━━━━━━━━\u001b[0m\u001b[37m\u001b[0m \u001b[1m3s\u001b[0m 6ms/step - loss: 0.5580 - root_mean_squared_error: 0.2143 - val_loss: 0.6574 - val_root_mean_squared_error: 0.2997\n",
            "Epoch 75/100\n",
            "\u001b[1m456/456\u001b[0m \u001b[32m━━━━━━━━━━━━━━━━━━━━\u001b[0m\u001b[37m\u001b[0m \u001b[1m6s\u001b[0m 8ms/step - loss: 0.5633 - root_mean_squared_error: 0.2133 - val_loss: 0.6596 - val_root_mean_squared_error: 0.3014\n",
            "Epoch 76/100\n",
            "\u001b[1m456/456\u001b[0m \u001b[32m━━━━━━━━━━━━━━━━━━━━\u001b[0m\u001b[37m\u001b[0m \u001b[1m4s\u001b[0m 6ms/step - loss: 0.5532 - root_mean_squared_error: 0.2123 - val_loss: 0.6578 - val_root_mean_squared_error: 0.3000\n",
            "Epoch 77/100\n",
            "\u001b[1m456/456\u001b[0m \u001b[32m━━━━━━━━━━━━━━━━━━━━\u001b[0m\u001b[37m\u001b[0m \u001b[1m3s\u001b[0m 6ms/step - loss: 0.5567 - root_mean_squared_error: 0.2093 - val_loss: 0.6598 - val_root_mean_squared_error: 0.3015\n",
            "Epoch 78/100\n",
            "\u001b[1m456/456\u001b[0m \u001b[32m━━━━━━━━━━━━━━━━━━━━\u001b[0m\u001b[37m\u001b[0m \u001b[1m6s\u001b[0m 9ms/step - loss: 0.5482 - root_mean_squared_error: 0.2082 - val_loss: 0.6579 - val_root_mean_squared_error: 0.3000\n",
            "Epoch 79/100\n",
            "\u001b[1m456/456\u001b[0m \u001b[32m━━━━━━━━━━━━━━━━━━━━\u001b[0m\u001b[37m\u001b[0m \u001b[1m4s\u001b[0m 6ms/step - loss: 0.5522 - root_mean_squared_error: 0.2069 - val_loss: 0.6603 - val_root_mean_squared_error: 0.3018\n",
            "Epoch 80/100\n",
            "\u001b[1m456/456\u001b[0m \u001b[32m━━━━━━━━━━━━━━━━━━━━\u001b[0m\u001b[37m\u001b[0m \u001b[1m5s\u001b[0m 7ms/step - loss: 0.5530 - root_mean_squared_error: 0.2090 - val_loss: 0.6578 - val_root_mean_squared_error: 0.2998\n",
            "Epoch 81/100\n",
            "\u001b[1m456/456\u001b[0m \u001b[32m━━━━━━━━━━━━━━━━━━━━\u001b[0m\u001b[37m\u001b[0m \u001b[1m4s\u001b[0m 9ms/step - loss: 0.5587 - root_mean_squared_error: 0.2117 - val_loss: 0.6599 - val_root_mean_squared_error: 0.3014\n",
            "Epoch 82/100\n",
            "\u001b[1m456/456\u001b[0m \u001b[32m━━━━━━━━━━━━━━━━━━━━\u001b[0m\u001b[37m\u001b[0m \u001b[1m4s\u001b[0m 7ms/step - loss: 0.5541 - root_mean_squared_error: 0.2101 - val_loss: 0.6583 - val_root_mean_squared_error: 0.3001\n",
            "Epoch 83/100\n",
            "\u001b[1m456/456\u001b[0m \u001b[32m━━━━━━━━━━━━━━━━━━━━\u001b[0m\u001b[37m\u001b[0m \u001b[1m5s\u001b[0m 7ms/step - loss: 0.5511 - root_mean_squared_error: 0.2064 - val_loss: 0.6599 - val_root_mean_squared_error: 0.3013\n",
            "Epoch 84/100\n",
            "\u001b[1m456/456\u001b[0m \u001b[32m━━━━━━━━━━━━━━━━━━━━\u001b[0m\u001b[37m\u001b[0m \u001b[1m4s\u001b[0m 9ms/step - loss: 0.5529 - root_mean_squared_error: 0.2106 - val_loss: 0.6580 - val_root_mean_squared_error: 0.2998\n",
            "Epoch 85/100\n",
            "\u001b[1m456/456\u001b[0m \u001b[32m━━━━━━━━━━━━━━━━━━━━\u001b[0m\u001b[37m\u001b[0m \u001b[1m4s\u001b[0m 6ms/step - loss: 0.5552 - root_mean_squared_error: 0.2087 - val_loss: 0.6600 - val_root_mean_squared_error: 0.3013\n",
            "Epoch 86/100\n",
            "\u001b[1m456/456\u001b[0m \u001b[32m━━━━━━━━━━━━━━━━━━━━\u001b[0m\u001b[37m\u001b[0m \u001b[1m5s\u001b[0m 6ms/step - loss: 0.5556 - root_mean_squared_error: 0.2159 - val_loss: 0.6580 - val_root_mean_squared_error: 0.2997\n",
            "Epoch 87/100\n",
            "\u001b[1m456/456\u001b[0m \u001b[32m━━━━━━━━━━━━━━━━━━━━\u001b[0m\u001b[37m\u001b[0m \u001b[1m4s\u001b[0m 9ms/step - loss: 0.5600 - root_mean_squared_error: 0.2114 - val_loss: 0.6598 - val_root_mean_squared_error: 0.3011\n",
            "Epoch 88/100\n",
            "\u001b[1m456/456\u001b[0m \u001b[32m━━━━━━━━━━━━━━━━━━━━\u001b[0m\u001b[37m\u001b[0m \u001b[1m3s\u001b[0m 6ms/step - loss: 0.5533 - root_mean_squared_error: 0.2116 - val_loss: 0.6581 - val_root_mean_squared_error: 0.2996\n",
            "Epoch 89/100\n",
            "\u001b[1m456/456\u001b[0m \u001b[32m━━━━━━━━━━━━━━━━━━━━\u001b[0m\u001b[37m\u001b[0m \u001b[1m3s\u001b[0m 6ms/step - loss: 0.5608 - root_mean_squared_error: 0.2097 - val_loss: 0.6599 - val_root_mean_squared_error: 0.3010\n",
            "Epoch 90/100\n",
            "\u001b[1m456/456\u001b[0m \u001b[32m━━━━━━━━━━━━━━━━━━━━\u001b[0m\u001b[37m\u001b[0m \u001b[1m3s\u001b[0m 7ms/step - loss: 0.5573 - root_mean_squared_error: 0.2165 - val_loss: 0.6581 - val_root_mean_squared_error: 0.2995\n",
            "Epoch 91/100\n",
            "\u001b[1m456/456\u001b[0m \u001b[32m━━━━━━━━━━━━━━━━━━━━\u001b[0m\u001b[37m\u001b[0m \u001b[1m5s\u001b[0m 7ms/step - loss: 0.5549 - root_mean_squared_error: 0.2079 - val_loss: 0.6598 - val_root_mean_squared_error: 0.3008\n",
            "Epoch 92/100\n",
            "\u001b[1m456/456\u001b[0m \u001b[32m━━━━━━━━━━━━━━━━━━━━\u001b[0m\u001b[37m\u001b[0m \u001b[1m3s\u001b[0m 7ms/step - loss: 0.5499 - root_mean_squared_error: 0.2090 - val_loss: 0.6580 - val_root_mean_squared_error: 0.2994\n",
            "Epoch 93/100\n",
            "\u001b[1m456/456\u001b[0m \u001b[32m━━━━━━━━━━━━━━━━━━━━\u001b[0m\u001b[37m\u001b[0m \u001b[1m3s\u001b[0m 6ms/step - loss: 0.5478 - root_mean_squared_error: 0.2042 - val_loss: 0.6597 - val_root_mean_squared_error: 0.3006\n",
            "Epoch 94/100\n",
            "\u001b[1m456/456\u001b[0m \u001b[32m━━━━━━━━━━━━━━━━━━━━\u001b[0m\u001b[37m\u001b[0m \u001b[1m6s\u001b[0m 8ms/step - loss: 0.5487 - root_mean_squared_error: 0.2090 - val_loss: 0.6579 - val_root_mean_squared_error: 0.2991\n",
            "Epoch 95/100\n",
            "\u001b[1m456/456\u001b[0m \u001b[32m━━━━━━━━━━━━━━━━━━━━\u001b[0m\u001b[37m\u001b[0m \u001b[1m4s\u001b[0m 7ms/step - loss: 0.5493 - root_mean_squared_error: 0.2046 - val_loss: 0.6597 - val_root_mean_squared_error: 0.3005\n",
            "Epoch 96/100\n",
            "\u001b[1m456/456\u001b[0m \u001b[32m━━━━━━━━━━━━━━━━━━━━\u001b[0m\u001b[37m\u001b[0m \u001b[1m4s\u001b[0m 8ms/step - loss: 0.5500 - root_mean_squared_error: 0.2085 - val_loss: 0.6577 - val_root_mean_squared_error: 0.2989\n",
            "Epoch 97/100\n",
            "\u001b[1m456/456\u001b[0m \u001b[32m━━━━━━━━━━━━━━━━━━━━\u001b[0m\u001b[37m\u001b[0m \u001b[1m5s\u001b[0m 7ms/step - loss: 0.5534 - root_mean_squared_error: 0.2072 - val_loss: 0.6596 - val_root_mean_squared_error: 0.3002\n",
            "Epoch 98/100\n",
            "\u001b[1m456/456\u001b[0m \u001b[32m━━━━━━━━━━━━━━━━━━━━\u001b[0m\u001b[37m\u001b[0m \u001b[1m3s\u001b[0m 7ms/step - loss: 0.5457 - root_mean_squared_error: 0.2081 - val_loss: 0.6579 - val_root_mean_squared_error: 0.2988\n",
            "Epoch 99/100\n",
            "\u001b[1m456/456\u001b[0m \u001b[32m━━━━━━━━━━━━━━━━━━━━\u001b[0m\u001b[37m\u001b[0m \u001b[1m6s\u001b[0m 8ms/step - loss: 0.5496 - root_mean_squared_error: 0.2046 - val_loss: 0.6599 - val_root_mean_squared_error: 0.3003\n",
            "Epoch 100/100\n",
            "\u001b[1m456/456\u001b[0m \u001b[32m━━━━━━━━━━━━━━━━━━━━\u001b[0m\u001b[37m\u001b[0m \u001b[1m3s\u001b[0m 8ms/step - loss: 0.5516 - root_mean_squared_error: 0.2098 - val_loss: 0.6580 - val_root_mean_squared_error: 0.2987\n"
          ]
        }
      ],
      "source": [
        "# Training model\n",
        "history = model.fit(\n",
        "    x=x_train,\n",
        "    y=y_train,\n",
        "    batch_size=64,\n",
        "    epochs=100,\n",
        "    validation_data=(x_val, y_val)\n",
        ")"
      ]
    },
    {
      "cell_type": "code",
      "execution_count": 49,
      "metadata": {
        "colab": {
          "base_uri": "https://localhost:8080/",
          "height": 472
        },
        "id": "BJHI9DcvrKd_",
        "outputId": "2de2d07a-2356-48ee-d581-a797116ae6e0"
      },
      "outputs": [
        {
          "data": {
            "image/png": "[encoded data removed]",
            "text/plain": [
              "<Figure size 640x480 with 1 Axes>"
            ]
          },
          "metadata": {},
          "output_type": "display_data"
        }
      ],
      "source": [
        "# Visualisasi metrics\n",
        "plt.plot(history.history['root_mean_squared_error'])\n",
        "plt.plot(history.history['val_root_mean_squared_error'])\n",
        "plt.title('Model Metrics')\n",
        "plt.ylabel('Root Mean Squared Error')\n",
        "plt.xlabel('Epoch')\n",
        "plt.legend(['Train', 'Validation'], loc='upper left')\n",
        "plt.show()"
      ]
    },
    {
      "cell_type": "code",
      "execution_count": 50,
      "metadata": {
        "id": "sB3vIbBLuldA"
      },
      "outputs": [],
      "source": [
        "# Fungsi untuk mendapatkan rekomendasi buku\n",
        "def get_collaborative_recommendations(user_id, top_n=10):\n",
        "    user_id_encoded = user_to_user_encoded.get(user_id, -1)\n",
        "\n",
        "    if user_id_encoded == -1:\n",
        "        print(f\"User ID {user_id} tidak ditemukan dalam dataset.\")\n",
        "        return None\n",
        "\n",
        "    # Buku yang telah dibaca oleh pengguna\n",
        "    books_read_by_user = ratings_subset[ratings_subset['user_id'] == user_id]['book_id'].values\n",
        "\n",
        "    # Buku yang belum dibaca oleh pengguna\n",
        "    books_not_read = [book_id for book_id in book_ids if book_id not in books_read_by_user]\n",
        "\n",
        "    if not books_not_read:\n",
        "        print(\"Pengguna telah membaca semua buku dalam dataset.\")\n",
        "        return None\n",
        "\n",
        "    # Memprediksi rating untuk buku yang belum dibaca\n",
        "    book_array = np.array([[book_to_book_encoded[book_id]] for book_id in books_not_read])\n",
        "    user_array = np.array([[user_id_encoded]] * len(books_not_read))\n",
        "\n",
        "    # Menggabungkan user dan book array untuk prediksi\n",
        "    prediction_input = np.hstack([user_array, book_array])\n",
        "\n",
        "    # Memprediksi rating\n",
        "    predicted_ratings = model.predict(prediction_input).flatten()\n",
        "\n",
        "    # Mengurutkan buku berdasarkan rating prediksi\n",
        "    top_ratings_indices = predicted_ratings.argsort()[-top_n:][::-1]\n",
        "    recommended_book_ids = [books_not_read[i] for i in top_ratings_indices]\n",
        "\n",
        "    # Mengambil informasi buku\n",
        "    recommended_books = books_clean[books_clean['book_id'].isin(recommended_book_ids)]\n",
        "\n",
        "    # Menambahkan predicted rating\n",
        "    pred_ratings_dict = {book_id: pred for book_id, pred in zip(recommended_book_ids, predicted_ratings[top_ratings_indices])}\n",
        "    recommended_books = recommended_books.copy()  # Buat salinan untuk menghindari warning\n",
        "    recommended_books['predicted_rating'] = recommended_books['book_id'].map(pred_ratings_dict)\n",
        "\n",
        "    result = recommended_books.sort_values('predicted_rating', ascending=False)[['title', 'authors', 'predicted_rating']]\n",
        "\n",
        "    print(f\"\\nRekomendasi Buku Collaborative Filtering untuk User {user_id}:\")\n",
        "    print(\"=\"*80)\n",
        "    print(\"{:<4} {:<50} {:<30} {:<10}\".format(\"No\", \"Judul\", \"Penulis\", \"Rating\"))\n",
        "    print(\"-\"*80)\n",
        "\n",
        "    for i, (_, row) in enumerate(result.iterrows()):\n",
        "        print(\"{:<4} {:<50} {:<30} {:<10.2f}\".format(\n",
        "            i+1,\n",
        "            row['title'][:47] + \"...\" if len(row['title']) > 47 else row['title'],\n",
        "            row['authors'][:27] + \"...\" if len(row['authors']) > 27 else row['authors'],\n",
        "            row['predicted_rating']\n",
        "        ))\n",
        "\n",
        "    return None"
      ]
    },
    {
      "cell_type": "code",
      "execution_count": 51,
      "metadata": {
        "colab": {
          "base_uri": "https://localhost:8080/"
        },
        "id": "3eN8WmF4un3C",
        "outputId": "fef0b939-7eb1-4033-96c4-f6883692b797"
      },
      "outputs": [
        {
          "name": "stdout",
          "output_type": "stream",
          "text": [
            "\n",
            "Rekomendasi buku collaborative filtering untuk user 40793:\n",
            "\u001b[1m25/25\u001b[0m \u001b[32m━━━━━━━━━━━━━━━━━━━━\u001b[0m\u001b[37m\u001b[0m \u001b[1m0s\u001b[0m 7ms/step\n",
            "\n",
            "Rekomendasi Buku Collaborative Filtering untuk User 40793:\n",
            "================================================================================\n",
            "No   Judul                                              Penulis                        Rating    \n",
            "--------------------------------------------------------------------------------\n",
            "1    The Last Juror                                     John Grisham                   0.89      \n",
            "2    Don Quixote                                        Miguel de Cervantes Saavedr... 0.86      \n",
            "3    The Taste of Home Cookbook                         Janet Briggs, Beth Wittling... 0.85      \n",
            "4    A People's History of the United States            Howard Zinn                    0.84      \n",
            "5    Girl with a Pearl Earring                          Tracy Chevalier                0.82      \n",
            "6    The Beautiful and Damned                           F. Scott Fitzgerald            0.82      \n",
            "7    Carter Beats the Devil                             Glen David Gold                0.81      \n",
            "8    The Universe in a Nutshell                         Stephen Hawking                0.81      \n",
            "9    Three Men in a Boat (Three Men, #1)                Jerome K. Jerome               0.81      \n",
            "10   The Blank Slate: The Modern Denial of Human Nat... Steven Pinker                  0.81      \n",
            "None\n"
          ]
        }
      ],
      "source": [
        "# Contoh rekomendasi untuk seorang pengguna\n",
        "sample_user = ratings_subset['user_id'].sample(1).iloc[0]\n",
        "print(f\"\\nRekomendasi buku collaborative filtering untuk user {sample_user}:\")\n",
        "user_recommendations = get_collaborative_recommendations(sample_user)\n",
        "print(user_recommendations)"
      ]
    },
    {
      "cell_type": "code",
      "execution_count": 52,
      "metadata": {
        "id": "BuDbWMJ02Gaz"
      },
      "outputs": [],
      "source": [
        "# Simpan model\n",
        "model.save_weights('book_recommender_model.weights.h5')"
      ]
    },
    {
      "cell_type": "code",
      "execution_count": 53,
      "metadata": {
        "colab": {
          "base_uri": "https://localhost:8080/"
        },
        "id": "XfFaGXp_2O6I",
        "outputId": "15002dc7-e1bb-46d4-c1c8-40b2131e604e"
      },
      "outputs": [
        {
          "name": "stdout",
          "output_type": "stream",
          "text": [
            "\n",
            "Model dan encoding telah disimpan untuk penggunaan di masa depan.\n",
            "File yang disimpan:\n",
            "- book_recommender_model.weights.h5: Bobot model machine learning\n",
            "- user_encoding.pkl: Encoding untuk user_id\n",
            "- book_encoding.pkl: Encoding untuk book_id\n",
            "- user_decoding.pkl: Decoding untuk user_id\n",
            "- book_decoding.pkl: Decoding untuk book_id\n"
          ]
        }
      ],
      "source": [
        "# Simpan encoding\n",
        "joblib.dump(user_to_user_encoded, 'user_encoding.pkl')\n",
        "joblib.dump(book_to_book_encoded, 'book_encoding.pkl')\n",
        "joblib.dump(user_encoded_to_user, 'user_decoding.pkl')\n",
        "joblib.dump(book_encoded_to_book, 'book_decoding.pkl')\n",
        "\n",
        "print(\"\\nModel dan encoding telah disimpan untuk penggunaan di masa depan.\")\n",
        "print(\"File yang disimpan:\")\n",
        "print(\"- book_recommender_model.weights.h5: Bobot model machine learning\")\n",
        "print(\"- user_encoding.pkl: Encoding untuk user_id\")\n",
        "print(\"- book_encoding.pkl: Encoding untuk book_id\")\n",
        "print(\"- user_decoding.pkl: Decoding untuk user_id\")\n",
        "print(\"- book_decoding.pkl: Decoding untuk book_id\")"
      ]
    },
    {
      "cell_type": "markdown",
      "metadata": {
        "id": "eGMCFXdl2W5t"
      },
      "source": [
        "## Evaluation"
      ]
    },
    {
      "cell_type": "markdown",
      "metadata": {
        "id": "DdECc2Ti2Ya6"
      },
      "source": [
        "### Evaluasi Content-Based Filtering\n",
        "Untuk evaluasi model content-based filtering, kita akan menggunakan metrik presisi. Presisi mengukur persentase rekomendasi yang relevan dari total rekomendasi yang diberikan.\n",
        "\n",
        "Karena kita tidak memiliki data yang benar-benar menunjukkan apakah rekomendasi relevan atau tidak, maka kita akan melakukan evaluasi menggunakan simulasi sederhana. Kita akan menganggap buku dengan genre/tag yang sama dengan buku input sebagai relevan."
      ]
    },
    {
      "cell_type": "code",
      "execution_count": 54,
      "metadata": {
        "id": "HxyshVDX2dz2"
      },
      "outputs": [],
      "source": [
        "def evaluate_content_based(title, cosine_sim=cosine_sim, df=books_with_tags, indices=indices):\n",
        "    try:\n",
        "        # Mendapatkan rekomendasi\n",
        "        recommendations = get_content_based_recommendations(title, cosine_sim, df, indices, verbose=True)\n",
        "\n",
        "        if recommendations is None:\n",
        "            return None\n",
        "\n",
        "        # Mendapatkan tag dari buku input\n",
        "        idx = indices[title]\n",
        "        input_tags = set(df.iloc[idx]['tag_string'].split())\n",
        "        input_author = df.iloc[idx]['authors'].lower()\n",
        "\n",
        "        # Jika tidak ada tag, gunakan pengarang sebagai referensi relevansi\n",
        "        if len(input_tags) <= 1:  # Jika tidak ada tag atau hanya 1 tag\n",
        "            relevant_count = sum(1 for _, row in recommendations.iterrows()\n",
        "                              if input_author.split(',')[0] in row['authors'].lower())\n",
        "            precision = relevant_count / len(recommendations) if len(recommendations) > 0 else 0\n",
        "            print(f\"Presisi untuk '{title}': {precision:.2f} (berbasis penulis)\")\n",
        "            return precision\n",
        "\n",
        "        # Menghitung berapa banyak buku yang memiliki tag yang sama\n",
        "        relevant_count = 0\n",
        "        for _, row in recommendations.iterrows():\n",
        "            rec_idx = indices.get(row['title'])\n",
        "            if rec_idx is not None:\n",
        "                book_tags = set(df.iloc[rec_idx]['tag_string'].split())\n",
        "                if input_tags.intersection(book_tags):\n",
        "                    relevant_count += 1\n",
        "\n",
        "        # Menghitung presisi\n",
        "        precision = relevant_count / len(recommendations) if len(recommendations) > 0 else 0\n",
        "        print(f\"Presisi untuk '{title}': {precision:.2f} (berbasis tag)\")\n",
        "        return precision\n",
        "    except Exception as e:\n",
        "        print(f\"Tidak dapat mengevaluasi '{title}': {str(e)}\")\n",
        "        return None"
      ]
    },
    {
      "cell_type": "code",
      "execution_count": 55,
      "metadata": {
        "colab": {
          "base_uri": "https://localhost:8080/"
        },
        "id": "0zTHqEs32geq",
        "outputId": "3f9213c9-a9c1-43b6-fa29-7dc9acbd6d5d"
      },
      "outputs": [
        {
          "name": "stdout",
          "output_type": "stream",
          "text": [
            "\n",
            "Evaluasi Content-Based Filtering:\n",
            "\n",
            "Rekomendasi Buku Berdasarkan: White Witch, Black Curse (The Hollows, #7)\n",
            "====================================================================================================\n",
            "No   Judul                                              Penulis                        Tahun     \n",
            "----------------------------------------------------------------------------------------------------\n",
            "1    Every Which Way But Dead (The Hollows, #3)         Kim Harrison                   2005      \n",
            "2    The Good, the Bad, and the Undead (The Hollows,... Kim Harrison                   2005      \n",
            "3    For a Few Demons More (The Hollows, #5)            Kim Harrison                   2007      \n",
            "4    The Outlaw Demon Wails (The Hollows, #6)           Kim Harrison                   2008      \n",
            "5    A Fistful of Charms (The Hollows, #4)              Kim Harrison                   2006      \n",
            "6    White Witch, Black Curse (The Hollows, #7)         Kim Harrison                   2009      \n",
            "7    Black Magic Sanction (The Hollows, #8)             Kim Harrison                   2010      \n",
            "8    Pale Demon (The Hollows, #9)                       Kim Harrison                   2011      \n",
            "9    A Perfect Blood (The Hollows, #10)                 Kim Harrison                   2012      \n",
            "10   Ever After (The Hollows, #11)                      Kim Harrison                   2013      \n",
            "\n",
            "Rekomendasi Buku Berdasarkan: The Jester\n",
            "====================================================================================================\n",
            "No   Judul                                              Penulis                        Tahun     \n",
            "----------------------------------------------------------------------------------------------------\n",
            "1    3rd Degree (Women's Murder Club, #3)               James Patterson, Andrew Gro... 2004      \n",
            "2    Judge & Jury                                       James Patterson, Andrew Gro... 2006      \n",
            "3    Lifeguard                                          James Patterson, Andrew Gro... 2005      \n",
            "4    The Jester                                         James Patterson, Andrew Gro... 2003      \n",
            "5    Along Came a Spider (Alex Cross, #1)               James Patterson                1993      \n",
            "6    Kiss the Girls (Alex Cross, #2)                    James Patterson                1995      \n",
            "7    1st to Die (Women's Murder Club, #1)               James Patterson                2001      \n",
            "8    The Angel Experiment (Maximum Ride, #1)            James Patterson                2005      \n",
            "9    Suzanne's Diary for Nicholas                       James Patterson                2001      \n",
            "10   Sam's Letters to Jennifer                          James Patterson                2001      \n",
            "\n",
            "Rekomendasi Buku Berdasarkan: A Higher Call: An Incredible True Story of Combat and Chivalry in the War-Torn Skies of World War II\n",
            "====================================================================================================\n",
            "No   Judul                                              Penulis                        Tahun     \n",
            "----------------------------------------------------------------------------------------------------\n",
            "1    The Wealth of Nations                              Adam Smith                     1776      \n",
            "2    The Orphan Master's Son                            Adam Johnson                   2012      \n",
            "3    Give and Take: A Revolutionary Approach to Succ... Adam M. Grant                  2013      \n",
            "4    King Leopold's Ghost                               Adam Hochschild                1998      \n",
            "5    A Tale Dark & Grimm (A Tale Dark & Grimm, #1)      Adam Gidwitz                   2010      \n",
            "6    Paris to the Moon                                  Adam Gopnik                    2000      \n",
            "7    Ringworld (Ringworld, #1)                          Larry Niven                    1970      \n",
            "8    The Ringworld Engineers (Ringworld #2)             Larry Niven                    1979      \n",
            "9    Oogy: The Dog Only a Family Could Love             Larry Levin                    2009      \n",
            "10   Lonesome Dove                                      Larry McMurtry                 1985      \n",
            "\n",
            "Rekomendasi Buku Berdasarkan: Sweet Surrender (Sweet, #1)\n",
            "====================================================================================================\n",
            "No   Judul                                              Penulis                        Tahun     \n",
            "----------------------------------------------------------------------------------------------------\n",
            "1    Fever (Breathless, #2)                             Maya Banks                     2013      \n",
            "2    Burn (Breathless, #3)                              Maya Banks                     2013      \n",
            "3    Sweet Surrender (Sweet, #1)                        Maya Banks                     2008      \n",
            "4    In Bed with a Highlander (McCabe Trilogy, #1)      Maya Banks                     2011      \n",
            "5    The Darkest Hour (KGI, #1)                         Maya Banks                     2010      \n",
            "6    Never Love a Highlander (McCabe Trilogy, #3)       Maya Banks                     2011      \n",
            "7    Sweet Persuasion (Sweet, #2)                       Maya Banks                     2009      \n",
            "8    No Place to Run (KGI, #2)                          Maya Banks                     2010      \n",
            "9    Never Seduce a Scot (The Montgomerys and Armstr... Maya Banks                     2012      \n",
            "10   Of Poseidon (The Syrena Legacy, #1)                Anna Banks                     2012      \n",
            "\n",
            "Rekomendasi Buku Berdasarkan: The Way the Crow Flies\n",
            "====================================================================================================\n",
            "No   Judul                                              Penulis                        Tahun     \n",
            "----------------------------------------------------------------------------------------------------\n",
            "1    The Way the Crow Flies                             Ann-Marie MacDonald            2003      \n",
            "2    Cape Fear                                          John D. MacDonald              1958      \n",
            "3    Holy Cow: An Indian Adventure                      Sarah Macdonald                2002      \n",
            "4    H is for Hawk                                      Helen Macdonald                2015      \n",
            "5    All Souls: A Family Story from Southie             Michael Patrick MacDonald      1999      \n",
            "6    Night Shift                                        Stephen King, John D. MacDo... 1978      \n",
            "7    Kristy's Great Idea (The Baby-Sitters Club, #1)    Ann M. Martin                  1986      \n",
            "8    A Dog's Life: The Autobiography of a Stray         Ann M. Martin                  2005      \n",
            "9    A Corner of the Universe                           Ann M. Martin                  2002      \n",
            "10   Rain Reign                                         Ann M. Martin                  2014      \n"
          ]
        }
      ],
      "source": [
        "# Evaluasi untuk beberapa buku\n",
        "sample_books = books_with_tags.sample(5)['title'].tolist()\n",
        "precision_scores = []\n",
        "\n",
        "print(\"\\nEvaluasi Content-Based Filtering:\")\n",
        "for title in sample_books:\n",
        "    try:\n",
        "        precision = evaluate_content_based(title)\n",
        "        if precision is not None:\n",
        "            precision_scores.append(precision)\n",
        "    except Exception as e:\n",
        "        print(f\"Error mengevaluasi '{title}': {str(e)}\")\n",
        "\n",
        "if precision_scores:\n",
        "    print(f\"Rata-rata presisi: {sum(precision_scores) / len(precision_scores):.2f}\")"
      ]
    },
    {
      "cell_type": "markdown",
      "metadata": {
        "id": "9c8c3qsp4MJ4"
      },
      "source": [
        "### Evaluasi Collaborative Filtering\n",
        "Untuk evaluasi model collaborative filtering, kita menggunakan metrik Root Mean Squared Error (RMSE) yang dihitung selama proses training model."
      ]
    },
    {
      "cell_type": "code",
      "execution_count": 56,
      "metadata": {
        "colab": {
          "base_uri": "https://localhost:8080/"
        },
        "id": "Hlu3IJAk4Mk4",
        "outputId": "ff4f5906-1513-4b60-e6d3-570461187fa8"
      },
      "outputs": [
        {
          "name": "stdout",
          "output_type": "stream",
          "text": [
            "\n",
            "Evaluasi Collaborative Filtering:\n",
            "RMSE pada data validasi: 0.2987\n"
          ]
        }
      ],
      "source": [
        "# Evaluasi RMSE\n",
        "print(\"\\nEvaluasi Collaborative Filtering:\")\n",
        "rmse = history.history['val_root_mean_squared_error'][-1]\n",
        "print(f\"RMSE pada data validasi: {rmse:.4f}\")"
      ]
    },
    {
      "cell_type": "code",
      "execution_count": 57,
      "metadata": {
        "colab": {
          "base_uri": "https://localhost:8080/"
        },
        "id": "yT7nGlGk4Vqc",
        "outputId": "54b7781c-8802-40d1-8c02-d07788c51aa1"
      },
      "outputs": [
        {
          "name": "stdout",
          "output_type": "stream",
          "text": [
            "RMSE pada skala rating asli (0.5-5): 1.1948\n"
          ]
        }
      ],
      "source": [
        "# Konversi RMSE ke skala rating asli (0.5-5)\n",
        "rmse_original_scale = rmse * (max_rating - min_rating)\n",
        "print(f\"RMSE pada skala rating asli (0.5-5): {rmse_original_scale:.4f}\")"
      ]
    },
    {
      "cell_type": "code",
      "execution_count": 58,
      "metadata": {
        "colab": {
          "base_uri": "https://localhost:8080/"
        },
        "id": "qtrREyAo4ZBL",
        "outputId": "521fa0c1-a989-47da-b59c-b70e34671ded"
      },
      "outputs": [
        {
          "name": "stdout",
          "output_type": "stream",
          "text": [
            "\n",
            "Interpretasi RMSE:\n",
            "Root Mean Squared Error (RMSE) adalah metrik yang mengukur rata-rata perbedaan antara\n",
            "rating prediksi dan rating aktual. Semakin kecil nilai RMSE, semakin akurat model.\n",
            "RMSE sebesar 1.1948 pada skala 0.5-5 menunjukkan bahwa rata-rata\n",
            "prediksi model berbeda sekitar 1.1948 poin dari rating aktual.\n"
          ]
        }
      ],
      "source": [
        "# Interpretasi RMSE\n",
        "print(\"\\nInterpretasi RMSE:\")\n",
        "print(\"Root Mean Squared Error (RMSE) adalah metrik yang mengukur rata-rata perbedaan antara\")\n",
        "print(\"rating prediksi dan rating aktual. Semakin kecil nilai RMSE, semakin akurat model.\")\n",
        "print(f\"RMSE sebesar {rmse_original_scale:.4f} pada skala 0.5-5 menunjukkan bahwa rata-rata\")\n",
        "print(f\"prediksi model berbeda sekitar {rmse_original_scale:.4f} poin dari rating aktual.\")"
      ]
    },
    {
      "cell_type": "markdown",
      "metadata": {
        "id": "cphJwKgE516G"
      },
      "source": [
        "### Perbandingan Kedua Model\n",
        "1. Content-Based Filtering:\n",
        "- Kelebihan: Dapat merekomendasikan buku yang belum diberi rating oleh banyak pengguna.\n",
        "- Kelebihan: Tidak memerlukan data dari pengguna lain untuk membuat rekomendasi.- Kekurangan: Tidak dapat menemukan preferensi baru di luar yang sudah diketahui.\n",
        "- Kekurangan: Sangat bergantung pada metadata buku yang berkualitas.\n",
        "\n",
        "2. Collaborative Filtering:\n",
        "- Kelebihan: Dapat menemukan preferensi baru yang mungkin tidak terduga.\n",
        "- Kelebihan: Menggunakan wisdom of the crowd untuk membuat rekomendasi.\n",
        "- Kekurangan: Memerlukan data rating yang cukup untuk memberikan rekomendasi yang baik.\n",
        "- Kekurangan: Kesulitan merekomendasikan buku baru yang belum memiliki banyak rating (cold start problem)."
      ]
    },
    {
      "cell_type": "markdown",
      "metadata": {
        "id": "gXgv1-nZ6eXM"
      },
      "source": [
        "### Metrik Evaluasi\n",
        "1. Presisi untuk Content-Based Filtering:\n",
        "- Presisi mengukur berapa banyak rekomendasi yang relevan dari seluruh rekomendasi yang diberikan.\n",
        "- Formula: Precision = (Jumlah rekomendasi relevan) / (Jumlah rekomendasi total)\n",
        "- Dalam konteks ini, kami menggunakan kesamaan tag/genre sebagai indikator relevansi.\n",
        "\n",
        "2. RMSE untuk Collaborative Filtering:\n",
        "- RMSE mengukur rata-rata perbedaan antara rating prediksi dan rating aktual.\n",
        "- Formula: RMSE = sqrt(mean((predicted_ratings - actual_ratings)^2))\n",
        "- Nilai RMSE yang lebih rendah menunjukkan model yang lebih akurat."
      ]
    },
    {
      "cell_type": "markdown",
      "metadata": {
        "id": "ujuykVmL66Ua"
      },
      "source": [
        "## Kesimpulan\n",
        "Proyek ini telah berhasil mengimplementasikan dua pendekatan sistem rekomendasi buku: Content-Based Filtering dan Collaborative Filtering. Berikut adalah kesimpulan dari kedua pendekatan tersebut:\n",
        "\n",
        "1. Content-Based Filtering berhasil memberikan rekomendasi buku berdasarkan kesamaan konten (genre, penulis, dan tag) dengan presisi rata-rata yang cukup baik. Pendekatan ini sangat berguna untuk merekomendasikan buku berdasarkan preferensi pengguna di masa lalu tanpa memerlukan data dari pengguna lain.\n",
        "\n",
        "2. Collaborative Filtering berhasil memberikan rekomendasi buku berdasarkan pola rating dari banyak pengguna. Model ini dapat menemukan preferensi baru yang mungkin tidak terduga oleh pengguna. Evaluasi menggunakan RMSE menunjukkan bahwa model ini mampu memprediksi rating dengan selisih rata-rata yang relatif kecil dari rating aktual.\n",
        "\n",
        "Untuk pengembangan lebih lanjut, beberapa hal yang dapat dilakukan:\n",
        "- Menggunakan dataset yang lebih besar untuk meningkatkan akurasi model\n",
        "- Menerapkan sistem hybrid yang menggabungkan kedua pendekatan\n",
        "- Menambahkan fitur personalisasi berdasarkan riwayat baca pengguna secara real-time\n",
        "- Memperbaiki masalah cold start dengan menambahkan rekomendasi buku populer untuk pengguna baru\n",
        "\n",
        "Secara keseluruhan, sistem rekomendasi buku yang dibangun dapat membantu pembaca menemukan buku yang sesuai dengan minat mereka, meningkatkan pengalaman pengguna, dan potensial meningkatkan penjualan bagi platform buku."
      ]
    },
    {
      "cell_type": "markdown",
      "metadata": {
        "id": "gKLVI2z97VAR"
      },
      "source": [
        "## Contoh Load Model\n",
        "Kode contoh untuk memuat model di masa depan"
      ]
    },
    {
      "cell_type": "code",
      "execution_count": 59,
      "metadata": {
        "id": "9mok95kA7ZG5"
      },
      "outputs": [],
      "source": [
        "import joblib\n",
        "import pandas as pd\n",
        "import numpy as np\n",
        "import tensorflow as tf\n",
        "from tensorflow import keras"
      ]
    },
    {
      "cell_type": "code",
      "execution_count": 65,
      "metadata": {
        "id": "WEvK_W9C7cgr"
      },
      "outputs": [],
      "source": [
        "# Load model weights\n",
        "model = RecommenderNet(num_users, num_books, 50)\n",
        "\n",
        "# Build model dengan membuat prediksi dummy\n",
        "dummy_input = np.array([[0, 0]])\n",
        "model(dummy_input)\n",
        "\n",
        "# Memuat bobot\n",
        "model.load_weights('book_recommender_model.weights.h5')"
      ]
    },
    {
      "cell_type": "code",
      "execution_count": 62,
      "metadata": {
        "id": "sqgBtgN1CFgZ"
      },
      "outputs": [],
      "source": [
        "# Load encoding\n",
        "user_to_user_encoded = joblib.load('user_encoding.pkl')\n",
        "book_to_book_encoded = joblib.load('book_encoding.pkl')\n",
        "user_encoded_to_user = joblib.load('user_decoding.pkl')\n",
        "book_encoded_to_book = joblib.load('book_decoding.pkl')"
      ]
    },
    {
      "cell_type": "code",
      "execution_count": 67,
      "metadata": {
        "colab": {
          "base_uri": "https://localhost:8080/"
        },
        "id": "lQ076mthCIVY",
        "outputId": "deaea556-3a35-4a8a-8368-5bb1b845ed75"
      },
      "outputs": [
        {
          "name": "stdout",
          "output_type": "stream",
          "text": [
            "\u001b[1m24/24\u001b[0m \u001b[32m━━━━━━━━━━━━━━━━━━━━\u001b[0m\u001b[37m\u001b[0m \u001b[1m1s\u001b[0m 17ms/step\n",
            "\n",
            "Rekomendasi Buku Collaborative Filtering untuk User 314:\n",
            "================================================================================\n",
            "No   Judul                                              Penulis                        Rating    \n",
            "--------------------------------------------------------------------------------\n",
            "1    The Last Juror                                     John Grisham                   0.85      \n",
            "2    A People's History of the United States            Howard Zinn                    0.83      \n",
            "3    Don Quixote                                        Miguel de Cervantes Saavedr... 0.82      \n",
            "4    The Taste of Home Cookbook                         Janet Briggs, Beth Wittling... 0.81      \n",
            "5    Girl with a Pearl Earring                          Tracy Chevalier                0.81      \n",
            "6    The Curious Incident of the Dog in the Night-Ti... Mark Haddon                    0.81      \n",
            "7    Carter Beats the Devil                             Glen David Gold                0.79      \n",
            "8    The Blank Slate: The Modern Denial of Human Nat... Steven Pinker                  0.78      \n",
            "9    Anne Frank: Beyond the Diary - A Photographic R... Ruud van der Rol, Rian Verh... 0.77      \n",
            "10   The Millionaire Next Door: The Surprising Secre... Thomas J. Stanley, William ... 0.77      \n",
            "None\n"
          ]
        }
      ],
      "source": [
        "# Gunakan model untuk mendapatkan rekomendasi\n",
        "user_id = 314  # Ganti dengan user_id yang ingin direkomendasikan\n",
        "recommendations = get_collaborative_recommendations(user_id)\n",
        "print(recommendations)"
      ]
    }
  ],
  "metadata": {
    "colab": {
      "provenance": [],
      "toc_visible": true
    },
    "kernelspec": {
      "display_name": "Python 3",
      "name": "python3"
    },
    "language_info": {
      "name": "python"
    }
  },
  "nbformat": 4,
  "nbformat_minor": 0
}
